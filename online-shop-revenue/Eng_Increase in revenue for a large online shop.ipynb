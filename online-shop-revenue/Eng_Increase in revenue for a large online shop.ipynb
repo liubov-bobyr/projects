{
 "cells": [
  {
   "cell_type": "markdown",
   "metadata": {},
   "source": [
    "# Increase in revenue for a large online shop\n",
    "\n",
    "\n",
    "**Research task:**\n",
    "\n",
    "Prioritize hypotheses (part 1), run an A/B-test (2 part) and analyze the results. \n",
    "\n",
    "**Research goal:**\n",
    "\n",
    "Increase revenue using one of the hypotheses prepared by the marketing department (9). \n",
    "\n",
    "**Research plan:**\n",
    "\n",
    "[**Part 1. Prioritization of hypotheses.**](#part1)\n",
    "\n",
    "\n",
    "- [1. Load libraries, load and check dataset](#part11)\n",
    "- [2. Using ICE framework](#part12)\n",
    "- [3. Using RICE framework](#part13)\n",
    "- [4. How the prioritization has changed with different frameworks](#part14)\n",
    "- [5. Conclusions from the firts part.](#part15)\n",
    "\n",
    "[**Data preprocessing**](#between)\n",
    "\n",
    "\n",
    "- [1. Load and check dataset of Orders](#between1)\n",
    "- [2. Load and check dataset of Visits.](#between2)\n",
    "- [3. Preprocessing conclusions](#between3)\n",
    "\n",
    "\n",
    "[**Part 2. A/B-test analysis.**](#part2)\n",
    "\n",
    "- [1. Graph of cumulative revenue by group](#part21)\n",
    "- [2. Graph of cumulative average bill by group](#part22)\n",
    "- [3. Graph of the relative change in the cumulative average bill of Group B to group A](#part23)\n",
    "- [4. Graph of cumulative conversion by group](#part24)\n",
    "- [5. Graph of the relative change in the cumulative conversion of group B to group A](#part25)\n",
    "- [6. Dot plot of the number of orders bu user](#part26)\n",
    "- [7. 95th and 99th percentiles of the number of orders per user](#part27)\n",
    "- [8. Histogram of order values](#part28)\n",
    "- [9. 95th and 99th percentiles of order costs](#part29)\n",
    "- [10. Statistical significance of differences in conversion between groups based on \"raw\" data](#part210)\n",
    "- [11. Statistical significance of differences in average bill between groups based on \"raw\" data](#part211)\n",
    "- [12. Statistical significance of differences in conversion between groups based on \"cleaned\" data](#part212)\n",
    "- [13. Statistical significance of differences in average bill between groups based on \"cleaned\" data](#part213)\n",
    "- [14. Test result decision](#part214)\n",
    "\n",
    "[**15. Conclusions from the second part.**](#part215)\n"
   ]
  },
  {
   "cell_type": "markdown",
   "metadata": {},
   "source": [
    "# Part 1. Prioritization of hypotheses.<a class=\"anchor\" id=\"part1\"></a>\n",
    "\n",
    "## 1. Load libraries, load and check dataset<a class=\"anchor\" id=\"part11\"></a>"
   ]
  },
  {
   "cell_type": "code",
   "execution_count": 1,
   "metadata": {},
   "outputs": [],
   "source": [
    "import pandas as pd\n",
    "import matplotlib.pyplot as plt\n",
    "import seaborn as sea\n",
    "import numpy as np\n",
    "import datetime as dt\n",
    "import scipy.stats as stats"
   ]
  },
  {
   "cell_type": "code",
   "execution_count": 5,
   "metadata": {},
   "outputs": [],
   "source": [
    "try:\n",
    "    hypotheses = pd.read_csv('/datasets/hypothesis.csv')\n",
    "except:\n",
    "    hypotheses = pd.read_csv('/Users/lqbaha/Downloads/datasets/hypothesis.csv')"
   ]
  },
  {
   "cell_type": "markdown",
   "metadata": {},
   "source": [
    "Let's take a look at the dataset, make the indexes more convinient and display the full text of the hypotheses. "
   ]
  },
  {
   "cell_type": "code",
   "execution_count": 6,
   "metadata": {},
   "outputs": [
    {
     "data": {
      "text/html": [
       "<div>\n",
       "<style scoped>\n",
       "    .dataframe tbody tr th:only-of-type {\n",
       "        vertical-align: middle;\n",
       "    }\n",
       "\n",
       "    .dataframe tbody tr th {\n",
       "        vertical-align: top;\n",
       "    }\n",
       "\n",
       "    .dataframe thead th {\n",
       "        text-align: right;\n",
       "    }\n",
       "</style>\n",
       "<table border=\"1\" class=\"dataframe\">\n",
       "  <thead>\n",
       "    <tr style=\"text-align: right;\">\n",
       "      <th></th>\n",
       "      <th>Hypothesis</th>\n",
       "      <th>Reach</th>\n",
       "      <th>Impact</th>\n",
       "      <th>Confidence</th>\n",
       "      <th>Efforts</th>\n",
       "    </tr>\n",
       "  </thead>\n",
       "  <tbody>\n",
       "    <tr>\n",
       "      <th>1</th>\n",
       "      <td>Добавить два новых канала привлечения трафика, что позволит привлекать на 30% больше пользователей</td>\n",
       "      <td>3</td>\n",
       "      <td>10</td>\n",
       "      <td>8</td>\n",
       "      <td>6</td>\n",
       "    </tr>\n",
       "    <tr>\n",
       "      <th>2</th>\n",
       "      <td>Запустить собственную службу доставки, что сократит срок доставки заказов</td>\n",
       "      <td>2</td>\n",
       "      <td>5</td>\n",
       "      <td>4</td>\n",
       "      <td>10</td>\n",
       "    </tr>\n",
       "    <tr>\n",
       "      <th>3</th>\n",
       "      <td>Добавить блоки рекомендаций товаров на сайт интернет магазина, чтобы повысить конверсию и средний чек заказа</td>\n",
       "      <td>8</td>\n",
       "      <td>3</td>\n",
       "      <td>7</td>\n",
       "      <td>3</td>\n",
       "    </tr>\n",
       "    <tr>\n",
       "      <th>4</th>\n",
       "      <td>Изменить структура категорий, что увеличит конверсию, т.к. пользователи быстрее найдут нужный товар</td>\n",
       "      <td>8</td>\n",
       "      <td>3</td>\n",
       "      <td>3</td>\n",
       "      <td>8</td>\n",
       "    </tr>\n",
       "    <tr>\n",
       "      <th>5</th>\n",
       "      <td>Изменить цвет фона главной страницы, чтобы увеличить вовлеченность пользователей</td>\n",
       "      <td>3</td>\n",
       "      <td>1</td>\n",
       "      <td>1</td>\n",
       "      <td>1</td>\n",
       "    </tr>\n",
       "    <tr>\n",
       "      <th>6</th>\n",
       "      <td>Добавить страницу отзывов клиентов о магазине, что позволит увеличить количество заказов</td>\n",
       "      <td>3</td>\n",
       "      <td>2</td>\n",
       "      <td>2</td>\n",
       "      <td>3</td>\n",
       "    </tr>\n",
       "    <tr>\n",
       "      <th>7</th>\n",
       "      <td>Показать на главной странице баннеры с актуальными акциями и распродажами, чтобы увеличить конверсию</td>\n",
       "      <td>5</td>\n",
       "      <td>3</td>\n",
       "      <td>8</td>\n",
       "      <td>3</td>\n",
       "    </tr>\n",
       "    <tr>\n",
       "      <th>8</th>\n",
       "      <td>Добавить форму подписки на все основные страницы, чтобы собрать базу клиентов для email-рассылок</td>\n",
       "      <td>10</td>\n",
       "      <td>7</td>\n",
       "      <td>8</td>\n",
       "      <td>5</td>\n",
       "    </tr>\n",
       "    <tr>\n",
       "      <th>9</th>\n",
       "      <td>Запустить акцию, дающую скидку на товар в день рождения</td>\n",
       "      <td>1</td>\n",
       "      <td>9</td>\n",
       "      <td>9</td>\n",
       "      <td>5</td>\n",
       "    </tr>\n",
       "  </tbody>\n",
       "</table>\n",
       "</div>"
      ],
      "text/plain": [
       "                                                                                                     Hypothesis  \\\n",
       "1            Добавить два новых канала привлечения трафика, что позволит привлекать на 30% больше пользователей   \n",
       "2                                     Запустить собственную службу доставки, что сократит срок доставки заказов   \n",
       "3  Добавить блоки рекомендаций товаров на сайт интернет магазина, чтобы повысить конверсию и средний чек заказа   \n",
       "4           Изменить структура категорий, что увеличит конверсию, т.к. пользователи быстрее найдут нужный товар   \n",
       "5                              Изменить цвет фона главной страницы, чтобы увеличить вовлеченность пользователей   \n",
       "6                      Добавить страницу отзывов клиентов о магазине, что позволит увеличить количество заказов   \n",
       "7          Показать на главной странице баннеры с актуальными акциями и распродажами, чтобы увеличить конверсию   \n",
       "8              Добавить форму подписки на все основные страницы, чтобы собрать базу клиентов для email-рассылок   \n",
       "9                                                       Запустить акцию, дающую скидку на товар в день рождения   \n",
       "\n",
       "   Reach  Impact  Confidence  Efforts  \n",
       "1      3      10           8        6  \n",
       "2      2       5           4       10  \n",
       "3      8       3           7        3  \n",
       "4      8       3           3        8  \n",
       "5      3       1           1        1  \n",
       "6      3       2           2        3  \n",
       "7      5       3           8        3  \n",
       "8     10       7           8        5  \n",
       "9      1       9           9        5  "
      ]
     },
     "execution_count": 6,
     "metadata": {},
     "output_type": "execute_result"
    }
   ],
   "source": [
    "hypotheses.index += 1 \n",
    "pd.set_option(\"max_colwidth\", 150)\n",
    "hypotheses"
   ]
  },
  {
   "cell_type": "markdown",
   "metadata": {},
   "source": [
    "We see 9 hypotheses, columns with scores (on a 10-point scale) of the components: Reach, Impact, Confidence and Efforts. \n",
    "\n",
    "\n",
    "Let's add new columns with prioritization calculations: ICE and RICE. And sort by the first one and then by a second.\n",
    "\n",
    "## 2. Using ICE framework<a class=\"anchor\" id=\"part12\"></a>"
   ]
  },
  {
   "cell_type": "code",
   "execution_count": 10,
   "metadata": {},
   "outputs": [
    {
     "data": {
      "text/html": [
       "<div>\n",
       "<style scoped>\n",
       "    .dataframe tbody tr th:only-of-type {\n",
       "        vertical-align: middle;\n",
       "    }\n",
       "\n",
       "    .dataframe tbody tr th {\n",
       "        vertical-align: top;\n",
       "    }\n",
       "\n",
       "    .dataframe thead th {\n",
       "        text-align: right;\n",
       "    }\n",
       "</style>\n",
       "<table border=\"1\" class=\"dataframe\">\n",
       "  <thead>\n",
       "    <tr style=\"text-align: right;\">\n",
       "      <th></th>\n",
       "      <th>Hypothesis</th>\n",
       "      <th>ICE</th>\n",
       "    </tr>\n",
       "  </thead>\n",
       "  <tbody>\n",
       "    <tr>\n",
       "      <th>9</th>\n",
       "      <td>Запустить акцию, дающую скидку на товар в день рождения</td>\n",
       "      <td>16.20</td>\n",
       "    </tr>\n",
       "    <tr>\n",
       "      <th>1</th>\n",
       "      <td>Добавить два новых канала привлечения трафика, что позволит привлекать на 30% больше пользователей</td>\n",
       "      <td>13.33</td>\n",
       "    </tr>\n",
       "    <tr>\n",
       "      <th>8</th>\n",
       "      <td>Добавить форму подписки на все основные страницы, чтобы собрать базу клиентов для email-рассылок</td>\n",
       "      <td>11.20</td>\n",
       "    </tr>\n",
       "    <tr>\n",
       "      <th>7</th>\n",
       "      <td>Показать на главной странице баннеры с актуальными акциями и распродажами, чтобы увеличить конверсию</td>\n",
       "      <td>8.00</td>\n",
       "    </tr>\n",
       "    <tr>\n",
       "      <th>3</th>\n",
       "      <td>Добавить блоки рекомендаций товаров на сайт интернет магазина, чтобы повысить конверсию и средний чек заказа</td>\n",
       "      <td>7.00</td>\n",
       "    </tr>\n",
       "    <tr>\n",
       "      <th>2</th>\n",
       "      <td>Запустить собственную службу доставки, что сократит срок доставки заказов</td>\n",
       "      <td>2.00</td>\n",
       "    </tr>\n",
       "    <tr>\n",
       "      <th>6</th>\n",
       "      <td>Добавить страницу отзывов клиентов о магазине, что позволит увеличить количество заказов</td>\n",
       "      <td>1.33</td>\n",
       "    </tr>\n",
       "    <tr>\n",
       "      <th>4</th>\n",
       "      <td>Изменить структура категорий, что увеличит конверсию, т.к. пользователи быстрее найдут нужный товар</td>\n",
       "      <td>1.12</td>\n",
       "    </tr>\n",
       "    <tr>\n",
       "      <th>5</th>\n",
       "      <td>Изменить цвет фона главной страницы, чтобы увеличить вовлеченность пользователей</td>\n",
       "      <td>1.00</td>\n",
       "    </tr>\n",
       "  </tbody>\n",
       "</table>\n",
       "</div>"
      ],
      "text/plain": [
       "                                                                                                     Hypothesis  \\\n",
       "9                                                       Запустить акцию, дающую скидку на товар в день рождения   \n",
       "1            Добавить два новых канала привлечения трафика, что позволит привлекать на 30% больше пользователей   \n",
       "8              Добавить форму подписки на все основные страницы, чтобы собрать базу клиентов для email-рассылок   \n",
       "7          Показать на главной странице баннеры с актуальными акциями и распродажами, чтобы увеличить конверсию   \n",
       "3  Добавить блоки рекомендаций товаров на сайт интернет магазина, чтобы повысить конверсию и средний чек заказа   \n",
       "2                                     Запустить собственную службу доставки, что сократит срок доставки заказов   \n",
       "6                      Добавить страницу отзывов клиентов о магазине, что позволит увеличить количество заказов   \n",
       "4           Изменить структура категорий, что увеличит конверсию, т.к. пользователи быстрее найдут нужный товар   \n",
       "5                              Изменить цвет фона главной страницы, чтобы увеличить вовлеченность пользователей   \n",
       "\n",
       "     ICE  \n",
       "9  16.20  \n",
       "1  13.33  \n",
       "8  11.20  \n",
       "7   8.00  \n",
       "3   7.00  \n",
       "2   2.00  \n",
       "6   1.33  \n",
       "4   1.12  \n",
       "5   1.00  "
      ]
     },
     "execution_count": 10,
     "metadata": {},
     "output_type": "execute_result"
    }
   ],
   "source": [
    "hypotheses['ICE'] = round(\n",
    "    (hypotheses['Impact'] * hypotheses['Confidence']) \n",
    "    / hypotheses['Efforts'],2)\n",
    "\n",
    "hypotheses[['Hypothesis', 'ICE']].sort_values(by='ICE', ascending=False)"
   ]
  },
  {
   "cell_type": "markdown",
   "metadata": {},
   "source": [
    "So the most important hypothesis by prioritization with framework ICE are:\n",
    "\n",
    "1. 9th - 'Launch a promothion that gives a discount on a product on the birtday', 16.20 points. \n",
    "2. 1st - 'Add two new channels to attract traffic, which will bring in 30% more users', 13.33 points.\n",
    "3. 8th - 'Add a subscription form to all the main pages to collect a client base for email newsletters', 11.20 point. \n",
    "\n",
    "## 3. Using RICE framework<a class=\"anchor\" id=\"part13\"></a>"
   ]
  },
  {
   "cell_type": "code",
   "execution_count": 23,
   "metadata": {},
   "outputs": [
    {
     "data": {
      "text/html": [
       "<div>\n",
       "<style scoped>\n",
       "    .dataframe tbody tr th:only-of-type {\n",
       "        vertical-align: middle;\n",
       "    }\n",
       "\n",
       "    .dataframe tbody tr th {\n",
       "        vertical-align: top;\n",
       "    }\n",
       "\n",
       "    .dataframe thead th {\n",
       "        text-align: right;\n",
       "    }\n",
       "</style>\n",
       "<table border=\"1\" class=\"dataframe\">\n",
       "  <thead>\n",
       "    <tr style=\"text-align: right;\">\n",
       "      <th></th>\n",
       "      <th>Hypothesis</th>\n",
       "      <th>RICE</th>\n",
       "    </tr>\n",
       "  </thead>\n",
       "  <tbody>\n",
       "    <tr>\n",
       "      <th>8</th>\n",
       "      <td>Добавить форму подписки на все основные страницы, чтобы собрать базу клиентов для email-рассылок</td>\n",
       "      <td>112.0</td>\n",
       "    </tr>\n",
       "    <tr>\n",
       "      <th>3</th>\n",
       "      <td>Добавить блоки рекомендаций товаров на сайт интернет магазина, чтобы повысить конверсию и средний чек заказа</td>\n",
       "      <td>56.0</td>\n",
       "    </tr>\n",
       "    <tr>\n",
       "      <th>1</th>\n",
       "      <td>Добавить два новых канала привлечения трафика, что позволит привлекать на 30% больше пользователей</td>\n",
       "      <td>40.0</td>\n",
       "    </tr>\n",
       "    <tr>\n",
       "      <th>7</th>\n",
       "      <td>Показать на главной странице баннеры с актуальными акциями и распродажами, чтобы увеличить конверсию</td>\n",
       "      <td>40.0</td>\n",
       "    </tr>\n",
       "    <tr>\n",
       "      <th>9</th>\n",
       "      <td>Запустить акцию, дающую скидку на товар в день рождения</td>\n",
       "      <td>16.2</td>\n",
       "    </tr>\n",
       "    <tr>\n",
       "      <th>4</th>\n",
       "      <td>Изменить структура категорий, что увеличит конверсию, т.к. пользователи быстрее найдут нужный товар</td>\n",
       "      <td>9.0</td>\n",
       "    </tr>\n",
       "    <tr>\n",
       "      <th>2</th>\n",
       "      <td>Запустить собственную службу доставки, что сократит срок доставки заказов</td>\n",
       "      <td>4.0</td>\n",
       "    </tr>\n",
       "    <tr>\n",
       "      <th>6</th>\n",
       "      <td>Добавить страницу отзывов клиентов о магазине, что позволит увеличить количество заказов</td>\n",
       "      <td>4.0</td>\n",
       "    </tr>\n",
       "    <tr>\n",
       "      <th>5</th>\n",
       "      <td>Изменить цвет фона главной страницы, чтобы увеличить вовлеченность пользователей</td>\n",
       "      <td>3.0</td>\n",
       "    </tr>\n",
       "  </tbody>\n",
       "</table>\n",
       "</div>"
      ],
      "text/plain": [
       "                                                                                                     Hypothesis  \\\n",
       "8              Добавить форму подписки на все основные страницы, чтобы собрать базу клиентов для email-рассылок   \n",
       "3  Добавить блоки рекомендаций товаров на сайт интернет магазина, чтобы повысить конверсию и средний чек заказа   \n",
       "1            Добавить два новых канала привлечения трафика, что позволит привлекать на 30% больше пользователей   \n",
       "7          Показать на главной странице баннеры с актуальными акциями и распродажами, чтобы увеличить конверсию   \n",
       "9                                                       Запустить акцию, дающую скидку на товар в день рождения   \n",
       "4           Изменить структура категорий, что увеличит конверсию, т.к. пользователи быстрее найдут нужный товар   \n",
       "2                                     Запустить собственную службу доставки, что сократит срок доставки заказов   \n",
       "6                      Добавить страницу отзывов клиентов о магазине, что позволит увеличить количество заказов   \n",
       "5                              Изменить цвет фона главной страницы, чтобы увеличить вовлеченность пользователей   \n",
       "\n",
       "    RICE  \n",
       "8  112.0  \n",
       "3   56.0  \n",
       "1   40.0  \n",
       "7   40.0  \n",
       "9   16.2  \n",
       "4    9.0  \n",
       "2    4.0  \n",
       "6    4.0  \n",
       "5    3.0  "
      ]
     },
     "execution_count": 23,
     "metadata": {},
     "output_type": "execute_result"
    }
   ],
   "source": [
    "hypotheses['RICE'] = (\n",
    "    hypotheses['Reach'] * hypotheses['Impact'] * hypotheses['Confidence']) / hypotheses['Efforts']\n",
    "\n",
    "hypotheses[['Hypothesis', 'RICE']].sort_values(by='RICE', ascending=False)"
   ]
  },
  {
   "cell_type": "markdown",
   "metadata": {},
   "source": [
    "And with a prioritization by framework RICE we have a different significance: \n",
    "\n",
    "1. 8th - 'Add a subscription form to all the main pages to collect a client base for email newsletters', 112.0\n",
    "2. 3d - 'Add product recommendation blocks to the online store website to increase conversion and average check of the order', 56.0\n",
    "3. 1st - 'Add two new channels to attract traffic, which will bring in 30% more users', 40.0."
   ]
  },
  {
   "cell_type": "markdown",
   "metadata": {},
   "source": [
    "# 5. Conclusions from the firts part.<a class=\"anchor\" id=\"part15\"></a>\n",
    "\n",
    "According to the first method (ICE), we have leaders: hypotheses №9, 1 и 8.  \n",
    "\n",
    "And according to the second method (RICE) - №8, 3, 1 и 7. \n",
    "\n",
    "The ninth hypothesis we will reject, because although the level of the Confidence is the highest, but its Impact on users is lower, but more importantly the Reach of useres affected by the change = 1. \n",
    "\n",
    "**Therefore we prioritize hypotheses №8 (maximum Reach and high Confidence), №1 (maximum Impact and high Confidence) and №3 (high level of Reach, Confidence + low testing costs).** "
   ]
  },
  {
   "cell_type": "markdown",
   "metadata": {},
   "source": [
    "# Data preprocessing<a class=\"anchor\" id=\"between\"></a>\n",
    "\n",
    "\n",
    "## 1. Load and check dataset of Orders.<a class=\"anchor\" id=\"between1\"></a>"
   ]
  },
  {
   "cell_type": "code",
   "execution_count": 24,
   "metadata": {},
   "outputs": [],
   "source": [
    "try:\n",
    "    orders = pd.read_csv('/datasets/orders.csv')\n",
    "except:\n",
    "    orders = pd.read_csv('/Users/lqbaha/Downloads/datasets/orders.csv')"
   ]
  },
  {
   "cell_type": "markdown",
   "metadata": {},
   "source": [
    "Let's take a look at the dataset of Orders, check the duplicates, misiing values and types of the data "
   ]
  },
  {
   "cell_type": "code",
   "execution_count": 25,
   "metadata": {},
   "outputs": [
    {
     "name": "stdout",
     "output_type": "stream",
     "text": [
      "<class 'pandas.core.frame.DataFrame'>\n",
      "RangeIndex: 1197 entries, 0 to 1196\n",
      "Data columns (total 5 columns):\n",
      " #   Column         Non-Null Count  Dtype \n",
      "---  ------         --------------  ----- \n",
      " 0   transactionId  1197 non-null   int64 \n",
      " 1   visitorId      1197 non-null   int64 \n",
      " 2   date           1197 non-null   object\n",
      " 3   revenue        1197 non-null   int64 \n",
      " 4   group          1197 non-null   object\n",
      "dtypes: int64(3), object(2)\n",
      "memory usage: 46.9+ KB\n"
     ]
    }
   ],
   "source": [
    "orders.info()"
   ]
  },
  {
   "cell_type": "code",
   "execution_count": 26,
   "metadata": {
    "scrolled": true
   },
   "outputs": [
    {
     "data": {
      "text/html": [
       "<div>\n",
       "<style scoped>\n",
       "    .dataframe tbody tr th:only-of-type {\n",
       "        vertical-align: middle;\n",
       "    }\n",
       "\n",
       "    .dataframe tbody tr th {\n",
       "        vertical-align: top;\n",
       "    }\n",
       "\n",
       "    .dataframe thead th {\n",
       "        text-align: right;\n",
       "    }\n",
       "</style>\n",
       "<table border=\"1\" class=\"dataframe\">\n",
       "  <thead>\n",
       "    <tr style=\"text-align: right;\">\n",
       "      <th></th>\n",
       "      <th>transactionId</th>\n",
       "      <th>visitorId</th>\n",
       "      <th>date</th>\n",
       "      <th>revenue</th>\n",
       "      <th>group</th>\n",
       "    </tr>\n",
       "  </thead>\n",
       "  <tbody>\n",
       "    <tr>\n",
       "      <th>0</th>\n",
       "      <td>3667963787</td>\n",
       "      <td>3312258926</td>\n",
       "      <td>2019-08-15</td>\n",
       "      <td>1650</td>\n",
       "      <td>B</td>\n",
       "    </tr>\n",
       "    <tr>\n",
       "      <th>1</th>\n",
       "      <td>2804400009</td>\n",
       "      <td>3642806036</td>\n",
       "      <td>2019-08-15</td>\n",
       "      <td>730</td>\n",
       "      <td>B</td>\n",
       "    </tr>\n",
       "    <tr>\n",
       "      <th>2</th>\n",
       "      <td>2961555356</td>\n",
       "      <td>4069496402</td>\n",
       "      <td>2019-08-15</td>\n",
       "      <td>400</td>\n",
       "      <td>A</td>\n",
       "    </tr>\n",
       "    <tr>\n",
       "      <th>3</th>\n",
       "      <td>3797467345</td>\n",
       "      <td>1196621759</td>\n",
       "      <td>2019-08-15</td>\n",
       "      <td>9759</td>\n",
       "      <td>B</td>\n",
       "    </tr>\n",
       "    <tr>\n",
       "      <th>4</th>\n",
       "      <td>2282983706</td>\n",
       "      <td>2322279887</td>\n",
       "      <td>2019-08-15</td>\n",
       "      <td>2308</td>\n",
       "      <td>B</td>\n",
       "    </tr>\n",
       "    <tr>\n",
       "      <th>5</th>\n",
       "      <td>182168103</td>\n",
       "      <td>935554773</td>\n",
       "      <td>2019-08-15</td>\n",
       "      <td>2210</td>\n",
       "      <td>B</td>\n",
       "    </tr>\n",
       "    <tr>\n",
       "      <th>6</th>\n",
       "      <td>398296753</td>\n",
       "      <td>2900797465</td>\n",
       "      <td>2019-08-15</td>\n",
       "      <td>1860</td>\n",
       "      <td>B</td>\n",
       "    </tr>\n",
       "    <tr>\n",
       "      <th>7</th>\n",
       "      <td>2626614568</td>\n",
       "      <td>78758296</td>\n",
       "      <td>2019-08-15</td>\n",
       "      <td>1044</td>\n",
       "      <td>A</td>\n",
       "    </tr>\n",
       "    <tr>\n",
       "      <th>8</th>\n",
       "      <td>1576988021</td>\n",
       "      <td>295230930</td>\n",
       "      <td>2019-08-15</td>\n",
       "      <td>13710</td>\n",
       "      <td>A</td>\n",
       "    </tr>\n",
       "    <tr>\n",
       "      <th>9</th>\n",
       "      <td>1506739906</td>\n",
       "      <td>1882260405</td>\n",
       "      <td>2019-08-15</td>\n",
       "      <td>1855</td>\n",
       "      <td>B</td>\n",
       "    </tr>\n",
       "  </tbody>\n",
       "</table>\n",
       "</div>"
      ],
      "text/plain": [
       "   transactionId   visitorId        date  revenue group\n",
       "0     3667963787  3312258926  2019-08-15     1650     B\n",
       "1     2804400009  3642806036  2019-08-15      730     B\n",
       "2     2961555356  4069496402  2019-08-15      400     A\n",
       "3     3797467345  1196621759  2019-08-15     9759     B\n",
       "4     2282983706  2322279887  2019-08-15     2308     B\n",
       "5      182168103   935554773  2019-08-15     2210     B\n",
       "6      398296753  2900797465  2019-08-15     1860     B\n",
       "7     2626614568    78758296  2019-08-15     1044     A\n",
       "8     1576988021   295230930  2019-08-15    13710     A\n",
       "9     1506739906  1882260405  2019-08-15     1855     B"
      ]
     },
     "execution_count": 26,
     "metadata": {},
     "output_type": "execute_result"
    }
   ],
   "source": [
    "orders.head(10)"
   ]
  },
  {
   "cell_type": "markdown",
   "metadata": {},
   "source": [
    "Will rename the columns to make it clearer with users IDs and orders."
   ]
  },
  {
   "cell_type": "code",
   "execution_count": 27,
   "metadata": {},
   "outputs": [],
   "source": [
    "orders.columns = ['transaction_id', 'visitor_id', 'date', 'revenue', 'group']"
   ]
  },
  {
   "cell_type": "code",
   "execution_count": 28,
   "metadata": {},
   "outputs": [],
   "source": [
    "orders['date'] = orders['date'].map(\n",
    "    lambda x: dt.datetime.strptime(x, '%Y-%m-%d'))"
   ]
  },
  {
   "cell_type": "code",
   "execution_count": 29,
   "metadata": {},
   "outputs": [
    {
     "data": {
      "text/plain": [
       "transaction_id    0\n",
       "visitor_id        0\n",
       "date              0\n",
       "revenue           0\n",
       "group             0\n",
       "dtype: int64"
      ]
     },
     "execution_count": 29,
     "metadata": {},
     "output_type": "execute_result"
    }
   ],
   "source": [
    "orders.isna().sum()"
   ]
  },
  {
   "cell_type": "code",
   "execution_count": 30,
   "metadata": {},
   "outputs": [
    {
     "data": {
      "text/plain": [
       "0"
      ]
     },
     "execution_count": 30,
     "metadata": {},
     "output_type": "execute_result"
    }
   ],
   "source": [
    "orders.duplicated().sum()"
   ]
  },
  {
   "cell_type": "markdown",
   "metadata": {},
   "source": [
    "Let's check the dates, which period is involved. "
   ]
  },
  {
   "cell_type": "code",
   "execution_count": 31,
   "metadata": {},
   "outputs": [
    {
     "name": "stdout",
     "output_type": "stream",
     "text": [
      "First date: 2019-08-01 00:00:00 Last date: 2019-08-31 00:00:00\n"
     ]
    }
   ],
   "source": [
    "print('First date:', orders['date'].min(), \n",
    "      'Last date:', orders['date'].max())"
   ]
  },
  {
   "cell_type": "markdown",
   "metadata": {},
   "source": [
    "Let's check how correctly the separation into groups was perfomed. "
   ]
  },
  {
   "cell_type": "code",
   "execution_count": 36,
   "metadata": {},
   "outputs": [],
   "source": [
    "doubled_visitors = orders.pivot_table(\n",
    "    index= 'visitor_id', \n",
    "    values= 'group', \n",
    "    aggfunc= 'nunique').reset_index().query('group > 1')"
   ]
  },
  {
   "cell_type": "code",
   "execution_count": 37,
   "metadata": {},
   "outputs": [
    {
     "data": {
      "text/plain": [
       "visitor_id    58\n",
       "group         58\n",
       "dtype: int64"
      ]
     },
     "execution_count": 37,
     "metadata": {},
     "output_type": "execute_result"
    }
   ],
   "source": [
    "doubled_visitors.count()"
   ]
  },
  {
   "cell_type": "code",
   "execution_count": 38,
   "metadata": {},
   "outputs": [
    {
     "name": "stdout",
     "output_type": "stream",
     "text": [
      "Total number of entries in Orders: 1197\n"
     ]
    }
   ],
   "source": [
    "print(\"Total number of entries in Orders:\", len(orders['visitor_id']))"
   ]
  },
  {
   "cell_type": "code",
   "execution_count": 44,
   "metadata": {},
   "outputs": [
    {
     "name": "stdout",
     "output_type": "stream",
     "text": [
      "Number of users caught in both grous:  58\n"
     ]
    }
   ],
   "source": [
    "print(\"Number of users caught in both grous: \", len(doubled_visitors))"
   ]
  },
  {
   "cell_type": "code",
   "execution_count": 46,
   "metadata": {},
   "outputs": [
    {
     "name": "stdout",
     "output_type": "stream",
     "text": [
      "Proportion of users caught in both groups:  4.85 %\n"
     ]
    }
   ],
   "source": [
    "print(\"Proportion of users caught in both groups: \", \n",
    "      round(len(doubled_visitors) / len(orders['visitor_id'])*100, 2), \"%\")"
   ]
  },
  {
   "cell_type": "code",
   "execution_count": 47,
   "metadata": {},
   "outputs": [
    {
     "name": "stdout",
     "output_type": "stream",
     "text": [
      "Number of entries in group A:  557\n"
     ]
    }
   ],
   "source": [
    "print(\"Number of entries in group A: \", orders[orders['group'] == 'A']['visitor_id'].count())"
   ]
  },
  {
   "cell_type": "code",
   "execution_count": 48,
   "metadata": {},
   "outputs": [
    {
     "name": "stdout",
     "output_type": "stream",
     "text": [
      "Number of entries in group B:  640\n"
     ]
    }
   ],
   "source": [
    "print(\"Number of entries in group B: \", orders[orders['group'] == 'B']['visitor_id'].count())"
   ]
  },
  {
   "cell_type": "code",
   "execution_count": 50,
   "metadata": {},
   "outputs": [
    {
     "name": "stdout",
     "output_type": "stream",
     "text": [
      "Proportion of users caught in both groups in the group A:  10.41 %\n"
     ]
    }
   ],
   "source": [
    "print(\"Proportion of users caught in both groups in the group A: \", \n",
    "      round(len(doubled_visitors) / orders[orders['group'] == 'A']['visitor_id'].count()*100,2), \"%\")"
   ]
  },
  {
   "cell_type": "code",
   "execution_count": 51,
   "metadata": {},
   "outputs": [
    {
     "name": "stdout",
     "output_type": "stream",
     "text": [
      "Proportion of users caught in both groups in the group B:  9.06 %\n"
     ]
    }
   ],
   "source": [
    "print(\"Proportion of users caught in both groups in the group B: \", \n",
    "      round(len(doubled_visitors) / orders[orders['group'] == 'B']['visitor_id'].count()*100,2), \"%\")"
   ]
  },
  {
   "cell_type": "markdown",
   "metadata": {},
   "source": [
    "Found 58 users who figure in both group A and group B.  \n",
    "\n",
    "As this is less than 5% of the total number of enties, but about 10% for each of the groups - let's delete these entries. Since we need to test how hypothesis affect the indicators - these 58 users may prevent us from checking wheter it is really about the hypothesis. "
   ]
  },
  {
   "cell_type": "code",
   "execution_count": 52,
   "metadata": {},
   "outputs": [],
   "source": [
    "orders = orders[~orders['visitor_id'].isin(doubled_visitors['visitor_id'])]"
   ]
  },
  {
   "cell_type": "markdown",
   "metadata": {},
   "source": [
    "## 2. Load and check dataset of Visits.<a class=\"anchor\" id=\"between2\"></a>"
   ]
  },
  {
   "cell_type": "code",
   "execution_count": 53,
   "metadata": {},
   "outputs": [],
   "source": [
    "try:\n",
    "    visitors = pd.read_csv('/datasets/visitors.csv')\n",
    "except:\n",
    "    visitors = pd.read_csv('/Users/lqbaha/Downloads/datasets/visitors.csv')"
   ]
  },
  {
   "cell_type": "markdown",
   "metadata": {},
   "source": [
    "Let's take a look at the dataset of Orders, check the duplicates, misiing values and types of the data."
   ]
  },
  {
   "cell_type": "code",
   "execution_count": 54,
   "metadata": {},
   "outputs": [
    {
     "name": "stdout",
     "output_type": "stream",
     "text": [
      "<class 'pandas.core.frame.DataFrame'>\n",
      "RangeIndex: 62 entries, 0 to 61\n",
      "Data columns (total 3 columns):\n",
      " #   Column    Non-Null Count  Dtype \n",
      "---  ------    --------------  ----- \n",
      " 0   date      62 non-null     object\n",
      " 1   group     62 non-null     object\n",
      " 2   visitors  62 non-null     int64 \n",
      "dtypes: int64(1), object(2)\n",
      "memory usage: 1.6+ KB\n"
     ]
    }
   ],
   "source": [
    "visitors.info()"
   ]
  },
  {
   "cell_type": "code",
   "execution_count": 55,
   "metadata": {},
   "outputs": [
    {
     "data": {
      "text/html": [
       "<div>\n",
       "<style scoped>\n",
       "    .dataframe tbody tr th:only-of-type {\n",
       "        vertical-align: middle;\n",
       "    }\n",
       "\n",
       "    .dataframe tbody tr th {\n",
       "        vertical-align: top;\n",
       "    }\n",
       "\n",
       "    .dataframe thead th {\n",
       "        text-align: right;\n",
       "    }\n",
       "</style>\n",
       "<table border=\"1\" class=\"dataframe\">\n",
       "  <thead>\n",
       "    <tr style=\"text-align: right;\">\n",
       "      <th></th>\n",
       "      <th>date</th>\n",
       "      <th>group</th>\n",
       "      <th>visitors</th>\n",
       "    </tr>\n",
       "  </thead>\n",
       "  <tbody>\n",
       "    <tr>\n",
       "      <th>0</th>\n",
       "      <td>2019-08-01</td>\n",
       "      <td>A</td>\n",
       "      <td>719</td>\n",
       "    </tr>\n",
       "    <tr>\n",
       "      <th>1</th>\n",
       "      <td>2019-08-02</td>\n",
       "      <td>A</td>\n",
       "      <td>619</td>\n",
       "    </tr>\n",
       "    <tr>\n",
       "      <th>2</th>\n",
       "      <td>2019-08-03</td>\n",
       "      <td>A</td>\n",
       "      <td>507</td>\n",
       "    </tr>\n",
       "    <tr>\n",
       "      <th>3</th>\n",
       "      <td>2019-08-04</td>\n",
       "      <td>A</td>\n",
       "      <td>717</td>\n",
       "    </tr>\n",
       "    <tr>\n",
       "      <th>4</th>\n",
       "      <td>2019-08-05</td>\n",
       "      <td>A</td>\n",
       "      <td>756</td>\n",
       "    </tr>\n",
       "    <tr>\n",
       "      <th>5</th>\n",
       "      <td>2019-08-06</td>\n",
       "      <td>A</td>\n",
       "      <td>667</td>\n",
       "    </tr>\n",
       "    <tr>\n",
       "      <th>6</th>\n",
       "      <td>2019-08-07</td>\n",
       "      <td>A</td>\n",
       "      <td>644</td>\n",
       "    </tr>\n",
       "    <tr>\n",
       "      <th>7</th>\n",
       "      <td>2019-08-08</td>\n",
       "      <td>A</td>\n",
       "      <td>610</td>\n",
       "    </tr>\n",
       "    <tr>\n",
       "      <th>8</th>\n",
       "      <td>2019-08-09</td>\n",
       "      <td>A</td>\n",
       "      <td>617</td>\n",
       "    </tr>\n",
       "    <tr>\n",
       "      <th>9</th>\n",
       "      <td>2019-08-10</td>\n",
       "      <td>A</td>\n",
       "      <td>406</td>\n",
       "    </tr>\n",
       "  </tbody>\n",
       "</table>\n",
       "</div>"
      ],
      "text/plain": [
       "         date group  visitors\n",
       "0  2019-08-01     A       719\n",
       "1  2019-08-02     A       619\n",
       "2  2019-08-03     A       507\n",
       "3  2019-08-04     A       717\n",
       "4  2019-08-05     A       756\n",
       "5  2019-08-06     A       667\n",
       "6  2019-08-07     A       644\n",
       "7  2019-08-08     A       610\n",
       "8  2019-08-09     A       617\n",
       "9  2019-08-10     A       406"
      ]
     },
     "execution_count": 55,
     "metadata": {},
     "output_type": "execute_result"
    }
   ],
   "source": [
    "visitors.head(10)"
   ]
  },
  {
   "cell_type": "code",
   "execution_count": 56,
   "metadata": {},
   "outputs": [
    {
     "data": {
      "text/plain": [
       "0"
      ]
     },
     "execution_count": 56,
     "metadata": {},
     "output_type": "execute_result"
    }
   ],
   "source": [
    "visitors.duplicated().sum()"
   ]
  },
  {
   "cell_type": "code",
   "execution_count": 57,
   "metadata": {},
   "outputs": [
    {
     "data": {
      "text/plain": [
       "0"
      ]
     },
     "execution_count": 57,
     "metadata": {},
     "output_type": "execute_result"
    }
   ],
   "source": [
    "visitors.duplicated().sum()"
   ]
  },
  {
   "cell_type": "code",
   "execution_count": 58,
   "metadata": {},
   "outputs": [],
   "source": [
    "visitors['date'] = visitors['date'].map(\n",
    "    lambda x: dt.datetime.strptime(x, '%Y-%m-%d')\n",
    ")"
   ]
  },
  {
   "cell_type": "markdown",
   "metadata": {},
   "source": [
    "Let's check the dates, which period is involved. "
   ]
  },
  {
   "cell_type": "code",
   "execution_count": 59,
   "metadata": {},
   "outputs": [
    {
     "name": "stdout",
     "output_type": "stream",
     "text": [
      "First date: 2019-08-01 00:00:00 Last date: 2019-08-31 00:00:00\n"
     ]
    }
   ],
   "source": [
    "print('First date:', visitors['date'].min(), 'Last date:', visitors['date'].max())"
   ]
  },
  {
   "cell_type": "markdown",
   "metadata": {},
   "source": [
    "# 3. Preprocessing conclusions.<a class=\"anchor\" id=\"between3\"></a>\n",
    "\n",
    "We have already carried out an A/B-test and need to verify the result. \n",
    "\n",
    "We have clean data, no missing values, no duplicates, we've changed the data type to make it easier to work with. \n",
    "\n",
    "The period under consideration in both datasets is from 1st to 1st August 2019. \n",
    "\n",
    "We also checked how correctly the separation into groups was perfomed and found 58 users who figure in both group A and group B.\n",
    "\n",
    "As this is less than 5% of the total number of enties, but about 10% for each of the groups. Since we need to test how hypothesis affect the indicators - these 58 users may prevent us from checking wheter it is really about the hypothesis, so we decieded to delete these entries. "
   ]
  },
  {
   "cell_type": "markdown",
   "metadata": {},
   "source": [
    "# Part 2. A/B-test analysis.<a class=\"anchor\" id=\"part2\"></a>\n",
    "\n",
    "\n",
    "## 1. Graph of cumulative revenue by group.<a class=\"anchor\" id=\"part21\"></a>\n",
    "\n",
    "First of all we need to create a new dataset with a cumulative data by days with orders, separeted by groups. "
   ]
  },
  {
   "cell_type": "code",
   "execution_count": 60,
   "metadata": {},
   "outputs": [],
   "source": [
    "# create an array of unique pairs of date values and test groups\n",
    "\n",
    "dates_groups = orders[['date','group']].drop_duplicates()"
   ]
  },
  {
   "cell_type": "code",
   "execution_count": 61,
   "metadata": {},
   "outputs": [],
   "source": [
    "# get agregated cumulative data by days (orders info)\n",
    "\n",
    "orders_aggregated = dates_groups.apply(\n",
    "    lambda x: orders[np.logical_and(\n",
    "        orders['date'] <= x['date'], orders['group'] == x['group'])].agg(\n",
    "        {'date' : 'max', \n",
    "         'group' : 'max', \n",
    "         'transaction_id' : 'nunique', \n",
    "         'visitor_id' : 'nunique', \n",
    "         'revenue' : 'sum'}),\n",
    "    axis=1).sort_values(by=['date','group'])"
   ]
  },
  {
   "cell_type": "code",
   "execution_count": 62,
   "metadata": {},
   "outputs": [],
   "source": [
    "# get agregated cumulative data by days (visits info)\n",
    "\n",
    "visitors_aggregated = dates_groups.apply(\n",
    "    lambda x: visitors[np.logical_and(\n",
    "        visitors['date'] <= x['date'], visitors['group'] == x['group'])].agg(\n",
    "        {'date' : 'max', \n",
    "         'group' : 'max', \n",
    "         'visitors' : 'sum'}), \n",
    "    axis=1).sort_values(by=['date','group'])"
   ]
  },
  {
   "cell_type": "code",
   "execution_count": 64,
   "metadata": {},
   "outputs": [
    {
     "data": {
      "text/html": [
       "<div>\n",
       "<style scoped>\n",
       "    .dataframe tbody tr th:only-of-type {\n",
       "        vertical-align: middle;\n",
       "    }\n",
       "\n",
       "    .dataframe tbody tr th {\n",
       "        vertical-align: top;\n",
       "    }\n",
       "\n",
       "    .dataframe thead th {\n",
       "        text-align: right;\n",
       "    }\n",
       "</style>\n",
       "<table border=\"1\" class=\"dataframe\">\n",
       "  <thead>\n",
       "    <tr style=\"text-align: right;\">\n",
       "      <th></th>\n",
       "      <th>date</th>\n",
       "      <th>group</th>\n",
       "      <th>orders</th>\n",
       "      <th>buyers</th>\n",
       "      <th>revenue</th>\n",
       "      <th>visitors</th>\n",
       "    </tr>\n",
       "  </thead>\n",
       "  <tbody>\n",
       "    <tr>\n",
       "      <th>0</th>\n",
       "      <td>2019-08-01</td>\n",
       "      <td>A</td>\n",
       "      <td>23</td>\n",
       "      <td>19</td>\n",
       "      <td>142779</td>\n",
       "      <td>719</td>\n",
       "    </tr>\n",
       "    <tr>\n",
       "      <th>1</th>\n",
       "      <td>2019-08-01</td>\n",
       "      <td>B</td>\n",
       "      <td>17</td>\n",
       "      <td>17</td>\n",
       "      <td>59758</td>\n",
       "      <td>713</td>\n",
       "    </tr>\n",
       "    <tr>\n",
       "      <th>2</th>\n",
       "      <td>2019-08-02</td>\n",
       "      <td>A</td>\n",
       "      <td>42</td>\n",
       "      <td>36</td>\n",
       "      <td>234381</td>\n",
       "      <td>1338</td>\n",
       "    </tr>\n",
       "    <tr>\n",
       "      <th>3</th>\n",
       "      <td>2019-08-02</td>\n",
       "      <td>B</td>\n",
       "      <td>40</td>\n",
       "      <td>39</td>\n",
       "      <td>221801</td>\n",
       "      <td>1294</td>\n",
       "    </tr>\n",
       "    <tr>\n",
       "      <th>4</th>\n",
       "      <td>2019-08-03</td>\n",
       "      <td>A</td>\n",
       "      <td>66</td>\n",
       "      <td>60</td>\n",
       "      <td>346854</td>\n",
       "      <td>1845</td>\n",
       "    </tr>\n",
       "  </tbody>\n",
       "</table>\n",
       "</div>"
      ],
      "text/plain": [
       "        date group  orders  buyers  revenue  visitors\n",
       "0 2019-08-01     A      23      19   142779       719\n",
       "1 2019-08-01     B      17      17    59758       713\n",
       "2 2019-08-02     A      42      36   234381      1338\n",
       "3 2019-08-02     B      40      39   221801      1294\n",
       "4 2019-08-03     A      66      60   346854      1845"
      ]
     },
     "execution_count": 64,
     "metadata": {},
     "output_type": "execute_result"
    }
   ],
   "source": [
    "# merge cumulative data in one dataset \n",
    "\n",
    "cumulative_data = orders_aggregated.merge(\n",
    "    visitors_aggregated, \n",
    "    left_on=['date', 'group'], \n",
    "    right_on=['date', 'group'])\n",
    "\n",
    "cumulative_data.columns = ['date', 'group', 'orders', 'buyers', 'revenue', 'visitors']\n",
    "cumulative_data.head(5)"
   ]
  },
  {
   "cell_type": "markdown",
   "metadata": {},
   "source": [
    "And we have a dataset with cumulative data ready, so we will use it to make graps. \n",
    "\n",
    "And also separate it by groups. "
   ]
  },
  {
   "cell_type": "code",
   "execution_count": 67,
   "metadata": {},
   "outputs": [],
   "source": [
    "# dataset with cumulative number of orders and cumulative revenue by day in group A\n",
    "\n",
    "cumulative_revenue_a = cumulative_data[cumulative_data['group']=='A'][['date','revenue', 'orders']]"
   ]
  },
  {
   "cell_type": "code",
   "execution_count": 69,
   "metadata": {},
   "outputs": [],
   "source": [
    "# dataset with cumulative number of orders and cumulative revenue by day in group B \n",
    "\n",
    "cumulative_revenue_b = cumulative_data[cumulative_data['group']=='B'][['date','revenue', 'orders']]"
   ]
  },
  {
   "cell_type": "code",
   "execution_count": 70,
   "metadata": {},
   "outputs": [
    {
     "data": {
      "image/png": "[encoded data removed]",
      "text/plain": [
       "<Figure size 1300x700 with 1 Axes>"
      ]
     },
     "metadata": {},
     "output_type": "display_data"
    }
   ],
   "source": [
    "plt.figure(figsize=(13,7))\n",
    "plt.plot(cumulative_revenue_a['date'], cumulative_revenue_a['revenue'], label='A')\n",
    "plt.plot(cumulative_revenue_b['date'], cumulative_revenue_b['revenue'], label='B')\n",
    "plt.title(\"Cumulative revenue by group\")\n",
    "plt.legend() \n",
    "plt.show()"
   ]
  },
  {
   "cell_type": "markdown",
   "metadata": {},
   "source": [
    "Revenue for half of the month increased evenly in both groups, but then group A continued to grow at a steady  pace, but the group B shows a sharp jump and then also a steady growth afterwards.\n",
    "\n",
    "Maybe it's about a onetime very expensive order, we need to check this later. "
   ]
  },
  {
   "cell_type": "markdown",
   "metadata": {},
   "source": [
    "## 2. Graph of cumulative average bill by group.<a class=\"anchor\" id=\"part22\"></a> "
   ]
  },
  {
   "cell_type": "code",
   "execution_count": 71,
   "metadata": {},
   "outputs": [
    {
     "data": {
      "image/png": "[encoded data removed]",
      "text/plain": [
       "<Figure size 1300x700 with 1 Axes>"
      ]
     },
     "metadata": {},
     "output_type": "display_data"
    }
   ],
   "source": [
    "plt.figure(figsize=(13,7))\n",
    "plt.plot(cumulative_revenue_a['date'], cumulative_revenue_a['revenue']/cumulative_revenue_a['orders'], label='A')\n",
    "plt.plot(cumulative_revenue_b['date'], cumulative_revenue_b['revenue']/cumulative_revenue_b['orders'], label='B')\n",
    "plt.title(\"Cumulative average bill by group\")\n",
    "plt.legend() \n",
    "plt.show()"
   ]
  },
  {
   "cell_type": "markdown",
   "metadata": {},
   "source": [
    "The average bill in Group A was rising by the middle of the month, but becomes more even in the second half of the chart. \n",
    "\n",
    "What is not to be said about Group B, whoso bill was rising by almost 1.5 times, but in the second half of the chart we can see a decline, and the line shows quite unusual movements during the whole period of observation. There could be anomalies in the data.  "
   ]
  },
  {
   "cell_type": "markdown",
   "metadata": {},
   "source": [
    "## 3. Graph of the relative change in the cumulative average bill of Group B to group A.<a class=\"anchor\" id=\"part23\"></a> "
   ]
  },
  {
   "cell_type": "code",
   "execution_count": 73,
   "metadata": {},
   "outputs": [],
   "source": [
    "# collect the data in one dataset \n",
    "\n",
    "merged_cumulative_revenue = cumulative_revenue_a.merge(\n",
    "    cumulative_revenue_b, \n",
    "    left_on='date', \n",
    "    right_on='date', \n",
    "    how='left', \n",
    "    suffixes=['A', 'B'])"
   ]
  },
  {
   "cell_type": "code",
   "execution_count": 74,
   "metadata": {},
   "outputs": [
    {
     "data": {
      "image/png": "[encoded data removed]",
      "text/plain": [
       "<Figure size 1300x700 with 1 Axes>"
      ]
     },
     "metadata": {},
     "output_type": "display_data"
    }
   ],
   "source": [
    "plt.figure(figsize=(13,7))\n",
    "plt.plot(\n",
    "    merged_cumulative_revenue['date'], (\n",
    "    merged_cumulative_revenue['revenueB'] / merged_cumulative_revenue['ordersB'])/(\n",
    "        merged_cumulative_revenue['revenueA'] / merged_cumulative_revenue['ordersA'])-1) \n",
    "\n",
    "plt.title(\"Relative difference in the average bill\")\n",
    "plt.axhline(y=0, color='black', linestyle='--') \n",
    "plt.show()"
   ]
  },
  {
   "cell_type": "markdown",
   "metadata": {},
   "source": [
    "The graph is with too abrupt changes, so we are now sure of anomalies and large orders. We'll find them later."
   ]
  },
  {
   "cell_type": "markdown",
   "metadata": {},
   "source": [
    "## 4. Graph of cumulative conversion by group.<a class=\"anchor\" id=\"part24\"></a> "
   ]
  },
  {
   "cell_type": "code",
   "execution_count": 75,
   "metadata": {},
   "outputs": [],
   "source": [
    "# first add the conversion column to our cumulative dataset \n",
    "\n",
    "cumulative_data['conversion'] = cumulative_data['orders']/cumulative_data['visitors']"
   ]
  },
  {
   "cell_type": "code",
   "execution_count": 76,
   "metadata": {},
   "outputs": [],
   "source": [
    "# and separete data by groups\n",
    "\n",
    "cumulative_data_a = cumulative_data[cumulative_data['group']=='A']\n",
    "cumulative_data_b = cumulative_data[cumulative_data['group']=='B']"
   ]
  },
  {
   "cell_type": "code",
   "execution_count": 77,
   "metadata": {},
   "outputs": [
    {
     "data": {
      "image/png": "[encoded data removed]",
      "text/plain": [
       "<Figure size 1300x700 with 1 Axes>"
      ]
     },
     "metadata": {},
     "output_type": "display_data"
    }
   ],
   "source": [
    "plt.figure(figsize=(13,7))\n",
    "plt.plot(cumulative_data_a['date'], cumulative_data_a['conversion'], label='A')\n",
    "plt.plot(cumulative_data_b['date'], cumulative_data_b['conversion'], label='B')\n",
    "plt.legend()\n",
    "plt.grid(True)\n",
    "plt.title(\"Cumulative conversion by group\")\n",
    "plt.show()"
   ]
  },
  {
   "cell_type": "markdown",
   "metadata": {},
   "source": [
    "Finally we see a trend towards group averaging. \n",
    "\n",
    "Group B's conversion rate is consistently higher than group A's, but both begin to fall towards the end of the period we observed.  "
   ]
  },
  {
   "cell_type": "markdown",
   "metadata": {},
   "source": [
    "## 5. Graph of the relative change in the cumulative conversion of group B to group A.<a class=\"anchor\" id=\"part25\"></a> "
   ]
  },
  {
   "cell_type": "code",
   "execution_count": 78,
   "metadata": {},
   "outputs": [],
   "source": [
    "# collect the data in one dataset \n",
    "\n",
    "merged_cumulative_conversions = cumulative_data_a[\n",
    "    ['date','conversion']].merge(cumulative_data_b[\n",
    "    ['date','conversion']], \n",
    "                                 left_on='date', \n",
    "                                 right_on='date', \n",
    "                                 how='left', \n",
    "                                 suffixes=['A', 'B'])"
   ]
  },
  {
   "cell_type": "code",
   "execution_count": 79,
   "metadata": {},
   "outputs": [
    {
     "data": {
      "image/png": "[encoded data removed]",
      "text/plain": [
       "<Figure size 1300x700 with 1 Axes>"
      ]
     },
     "metadata": {},
     "output_type": "display_data"
    }
   ],
   "source": [
    "plt.figure(figsize=(13,7))\n",
    "plt.plot(merged_cumulative_conversions['date'], \n",
    "         merged_cumulative_conversions['conversionB']/merged_cumulative_conversions['conversionA']-1)\n",
    "plt.title(\"Relative change in conversion of group B vs. group A\")\n",
    "plt.axhline(y=0, color='black', linestyle='--')\n",
    "plt.axhline(y=0.1, color='grey', linestyle='--')\n",
    "plt.show()"
   ]
  },
  {
   "cell_type": "markdown",
   "metadata": {},
   "source": [
    "In the beginning, group A was better in terms of conversion rate, but then group B's conversion increased greatly, becoming better than group A's by at least 10% by the end of the observed period and locking in.  "
   ]
  },
  {
   "cell_type": "markdown",
   "metadata": {},
   "source": [
    "## 6. Dot plot of the number of orders bu user.<a class=\"anchor\" id=\"part26\"></a> "
   ]
  },
  {
   "cell_type": "code",
   "execution_count": 81,
   "metadata": {},
   "outputs": [
    {
     "data": {
      "text/html": [
       "<div>\n",
       "<style scoped>\n",
       "    .dataframe tbody tr th:only-of-type {\n",
       "        vertical-align: middle;\n",
       "    }\n",
       "\n",
       "    .dataframe tbody tr th {\n",
       "        vertical-align: top;\n",
       "    }\n",
       "\n",
       "    .dataframe thead th {\n",
       "        text-align: right;\n",
       "    }\n",
       "</style>\n",
       "<table border=\"1\" class=\"dataframe\">\n",
       "  <thead>\n",
       "    <tr style=\"text-align: right;\">\n",
       "      <th></th>\n",
       "      <th>visitor_id</th>\n",
       "      <th>orders</th>\n",
       "    </tr>\n",
       "  </thead>\n",
       "  <tbody>\n",
       "    <tr>\n",
       "      <th>908</th>\n",
       "      <td>3967698036</td>\n",
       "      <td>3</td>\n",
       "    </tr>\n",
       "    <tr>\n",
       "      <th>55</th>\n",
       "      <td>249864742</td>\n",
       "      <td>3</td>\n",
       "    </tr>\n",
       "    <tr>\n",
       "      <th>478</th>\n",
       "      <td>2108163459</td>\n",
       "      <td>3</td>\n",
       "    </tr>\n",
       "    <tr>\n",
       "      <th>687</th>\n",
       "      <td>2988190573</td>\n",
       "      <td>3</td>\n",
       "    </tr>\n",
       "    <tr>\n",
       "      <th>890</th>\n",
       "      <td>3908431265</td>\n",
       "      <td>3</td>\n",
       "    </tr>\n",
       "  </tbody>\n",
       "</table>\n",
       "</div>"
      ],
      "text/plain": [
       "     visitor_id  orders\n",
       "908  3967698036       3\n",
       "55    249864742       3\n",
       "478  2108163459       3\n",
       "687  2988190573       3\n",
       "890  3908431265       3"
      ]
     },
     "execution_count": 81,
     "metadata": {},
     "output_type": "execute_result"
    }
   ],
   "source": [
    "# count the number of orders by user\n",
    "\n",
    "orders_by_users = orders.groupby('visitor_id', as_index=False).agg({'transaction_id': 'nunique'})\n",
    "orders_by_users.columns = ['visitor_id', 'orders']\n",
    "orders_by_users.sort_values(by='orders', ascending=False).head(5)"
   ]
  },
  {
   "cell_type": "code",
   "execution_count": 82,
   "metadata": {},
   "outputs": [
    {
     "data": {
      "image/png": "[encoded data removed]",
      "text/plain": [
       "<Figure size 1300x700 with 1 Axes>"
      ]
     },
     "metadata": {},
     "output_type": "display_data"
    }
   ],
   "source": [
    "plt.figure(figsize=(13,7))\n",
    "plt.hist(orders_by_users['orders']) \n",
    "plt.ylabel('Number of clients')\n",
    "plt.xlabel('Number of orders per user')\n",
    "plt.title('Distribution histogram of the number of orders per user')\n",
    "plt.show()"
   ]
  },
  {
   "cell_type": "markdown",
   "metadata": {},
   "source": [
    "Here we see that most users have only placed one order.  "
   ]
  },
  {
   "cell_type": "code",
   "execution_count": 86,
   "metadata": {},
   "outputs": [
    {
     "data": {
      "image/png": "[encoded data removed]",
      "text/plain": [
       "<Figure size 1300x700 with 1 Axes>"
      ]
     },
     "metadata": {},
     "output_type": "display_data"
    }
   ],
   "source": [
    "x_values = pd.Series(range(0,len(orders_by_users)))\n",
    "plt.figure(figsize=(13,7))\n",
    "plt.xlabel('Number of clients')\n",
    "plt.ylabel('Number of orders per user')\n",
    "plt.scatter(x_values, orders_by_users['orders']) \n",
    "plt.title('Dot chart of the number of orders per user')\n",
    "plt.show()"
   ]
  },
  {
   "cell_type": "markdown",
   "metadata": {},
   "source": [
    "Again we see the majority of users with one order, a reasonable number of users with two orders and the rare users who have placed an abnormally large number of orders."
   ]
  },
  {
   "cell_type": "markdown",
   "metadata": {},
   "source": [
    "## 7. 95th and 99th percentiles of the number of orders per user.<a class=\"anchor\" id=\"part27\"></a> "
   ]
  },
  {
   "cell_type": "code",
   "execution_count": 84,
   "metadata": {},
   "outputs": [
    {
     "data": {
      "text/plain": [
       "array([1., 2.])"
      ]
     },
     "execution_count": 84,
     "metadata": {},
     "output_type": "execute_result"
    }
   ],
   "source": [
    "np.percentile(orders_by_users['orders'], [95, 99])"
   ]
  },
  {
   "cell_type": "markdown",
   "metadata": {},
   "source": [
    "Only 5% of users placed more than 1 order. And 1% of users ordered 2 times. \n",
    "\n",
    "So we choose a limit for defining abnormal users of 1 order per user. "
   ]
  },
  {
   "cell_type": "markdown",
   "metadata": {},
   "source": [
    "## 8. Histogram of order values.<a class=\"anchor\" id=\"part28\"></a> "
   ]
  },
  {
   "cell_type": "code",
   "execution_count": 85,
   "metadata": {},
   "outputs": [
    {
     "data": {
      "image/png": "[encoded data removed]",
      "text/plain": [
       "<Figure size 1300x700 with 1 Axes>"
      ]
     },
     "metadata": {},
     "output_type": "display_data"
    }
   ],
   "source": [
    "plt.figure(figsize=(13,7))\n",
    "plt.hist(orders['revenue'], bins = 80, range=(0,100000)) \n",
    "plt.xlabel('Cost of orders per user')\n",
    "plt.title('Histogram of the distribution of order values per user')\n",
    "plt.show()"
   ]
  },
  {
   "cell_type": "markdown",
   "metadata": {},
   "source": [
    "Most users do not order more than 10-20k, but there are also very expensive orders approaching 100k. "
   ]
  },
  {
   "cell_type": "code",
   "execution_count": 87,
   "metadata": {},
   "outputs": [
    {
     "data": {
      "image/png": "[encoded data removed]",
      "text/plain": [
       "<Figure size 1300x700 with 1 Axes>"
      ]
     },
     "metadata": {},
     "output_type": "display_data"
    }
   ],
   "source": [
    "plt.figure(figsize=(13,7))\n",
    "x_values = pd.Series(range(0,len(orders['revenue'])))\n",
    "plt.scatter(x_values, orders['revenue']) \n",
    "plt.axis([0, 1050, 0, 210000])\n",
    "plt.ylabel('Value of orders per users')\n",
    "plt.title('Dot chart of order values per user')\n",
    "plt.show()"
   ]
  },
  {
   "cell_type": "markdown",
   "metadata": {},
   "source": [
    "There are also anomalies on the chart, but also most users place orders worth no more than 30k."
   ]
  },
  {
   "cell_type": "markdown",
   "metadata": {},
   "source": [
    "## 9. 95th and 99th percentiles of order costs.<a class=\"anchor\" id=\"part29\"></a> "
   ]
  },
  {
   "cell_type": "code",
   "execution_count": 88,
   "metadata": {},
   "outputs": [
    {
     "data": {
      "text/plain": [
       "array([26785., 53904.])"
      ]
     },
     "execution_count": 88,
     "metadata": {},
     "output_type": "execute_result"
    }
   ],
   "source": [
    "np.percentile(orders['revenue'], [95, 99])"
   ]
  },
  {
   "cell_type": "markdown",
   "metadata": {},
   "source": [
    "No more than 5% of orders are more expensive than 27k. And only no more than 1% is more expensive than 54k. \n",
    "\n",
    "We choose a limit for determining abnormal orders values of 27k.  "
   ]
  },
  {
   "cell_type": "markdown",
   "metadata": {},
   "source": [
    "## 10. Statistical significance of differences in conversion between groups based on \"raw\" data.<a class=\"anchor\" id=\"part210\"></a> \n",
    "\n",
    "Let's formulate hypotheses: \n",
    "- Н0 - there is no difference in conversion between groups\n",
    "- Н1 - there are differences in conversion between the groups\n",
    "\n",
    "Create variables `orders_by_users_a` and `orders_by_users_b`, where for users who placed at least once, indicate the number of compleate orders. \n",
    "\n",
    "Create variables `sample_a` and `sample_b`, in which users from different groups will be matched with the number of orders (if not, 0). \n",
    "\n",
    "And we will apply the Mann-Whitney criterion."
   ]
  },
  {
   "cell_type": "code",
   "execution_count": 89,
   "metadata": {},
   "outputs": [],
   "source": [
    "orders_by_users_a = orders[\n",
    "    orders['group'] == 'A'].groupby('visitor_id', as_index=False).agg(\n",
    "    {'transaction_id': pd.Series.nunique})\n",
    "\n",
    "orders_by_users_a.columns = ['visitor_id', 'orders']"
   ]
  },
  {
   "cell_type": "code",
   "execution_count": 90,
   "metadata": {},
   "outputs": [],
   "source": [
    "orders_by_users_b = orders[\n",
    "    orders['group'] == 'B'].groupby('visitor_id', as_index=False).agg(\n",
    "    {'transaction_id': pd.Series.nunique})\n",
    "\n",
    "orders_by_users_b.columns = ['visitor_id', 'orders']"
   ]
  },
  {
   "cell_type": "markdown",
   "metadata": {},
   "source": [
    "Let's check if the groups are even. "
   ]
  },
  {
   "cell_type": "code",
   "execution_count": 93,
   "metadata": {},
   "outputs": [
    {
     "name": "stdout",
     "output_type": "stream",
     "text": [
      "Number of clients in group A - 445\n",
      "Number of orders in group А - 468\n",
      "Number of visits in group А - 18736\n",
      "Number of clients in group B - 528\n",
      "Number of orders in group B - 548\n",
      "Number of visits in group B - 18916\n"
     ]
    }
   ],
   "source": [
    "print(\"Number of clients in group A -\", len(orders_by_users_a))\n",
    "print(\"Number of orders in group А -\", orders[orders['group'] == 'A']['transaction_id'].count())\n",
    "print(\"Number of visits in group А -\", visitors[visitors['group'] == 'A']['visitors'].sum())\n",
    "print(\"Number of clients in group B -\", len(orders_by_users_b))\n",
    "print(\"Number of orders in group B -\", orders[orders['group'] == 'B']['transaction_id'].count())\n",
    "print(\"Number of visits in group B -\", visitors[visitors['group'] == 'B']['visitors'].sum())"
   ]
  },
  {
   "cell_type": "code",
   "execution_count": 97,
   "metadata": {},
   "outputs": [],
   "source": [
    "sample_a = pd.concat(\n",
    "    [orders_by_users_a['orders'],pd.Series(\n",
    "        0, index=np.arange(\n",
    "            visitors[visitors['group']=='A']['visitors'].sum() - len(\n",
    "                orders_by_users_a['orders'])), name='orders')],axis=0)"
   ]
  },
  {
   "cell_type": "code",
   "execution_count": 95,
   "metadata": {},
   "outputs": [],
   "source": [
    "sample_b = pd.concat(\n",
    "    [orders_by_users_b['orders'],pd.Series(\n",
    "        0, index=np.arange(\n",
    "            visitors[visitors['group']=='B']['visitors'].sum() - len(\n",
    "                orders_by_users_b['orders'])), name='orders')],axis=0)"
   ]
  },
  {
   "cell_type": "markdown",
   "metadata": {},
   "source": [
    "Number of enties in `sample_a` and `sample_b` it's a number of users, and sum of all the elements is the number of orders.\n",
    "\n",
    "Group A is smallre than group B, so we will make allowance for this in the calculations below."
   ]
  },
  {
   "cell_type": "code",
   "execution_count": 98,
   "metadata": {},
   "outputs": [
    {
     "name": "stdout",
     "output_type": "stream",
     "text": [
      "Deviation of group B conversion to group A: 0.160\n"
     ]
    }
   ],
   "source": [
    "print('Deviation of group B conversion to group A:', \n",
    "      \"{0:.3f}\".format(sample_b.mean() / sample_a.mean() - 1))"
   ]
  },
  {
   "cell_type": "code",
   "execution_count": 104,
   "metadata": {},
   "outputs": [
    {
     "name": "stdout",
     "output_type": "stream",
     "text": [
      "p-value 0.006\n",
      "We reject the null hypothesis: based on 'raw' data, there are differences in conversion between the groups.\n"
     ]
    }
   ],
   "source": [
    "results =  stats.mannwhitneyu(sample_a, sample_b, True, 'less')\n",
    "\n",
    "print('p-value', round(results.pvalue,3))\n",
    "alpha = 0.05 \n",
    "\n",
    "if results.pvalue < alpha:\n",
    "    print(\"We reject the null hypothesis: based on 'raw' data, \"\\\n",
    "    \"there are differences in conversion between the groups.\")\n",
    "else:\n",
    "    print(\"It's not possible to reject the null hypothesis, the conclusion about the difference \"\\\n",
    "          \"based on 'raw' data the conversion cannot be made.\")"
   ]
  },
  {
   "cell_type": "markdown",
   "metadata": {},
   "source": [
    "The calculation shows that in conversion in groups A and B the difference is statistically significant, the null hypothesis is rejected. We remember the previous graphs, and next let's see what we get with data cleared of anomalies. "
   ]
  },
  {
   "cell_type": "markdown",
   "metadata": {},
   "source": [
    "## 11. Statistical significance of differences in the average bill between groups based on \"raw\" data.<a class=\"anchor\" id=\"part211\"></a> "
   ]
  },
  {
   "cell_type": "markdown",
   "metadata": {},
   "source": [
    "Let's formulate hypotheses: \n",
    "- Н0 - there is no difference in the average bill between groups\n",
    "- Н1 - there are differences in the average bill between the groups"
   ]
  },
  {
   "cell_type": "code",
   "execution_count": 102,
   "metadata": {},
   "outputs": [
    {
     "name": "stdout",
     "output_type": "stream",
     "text": [
      "Deviation of group B average bill to group A: 0.287\n"
     ]
    }
   ],
   "source": [
    "print('Deviation of group B average bill to group A:', \n",
    "      '{0:.3f}'.format(orders[orders['group']=='B']['revenue'].mean()\n",
    "                       /orders[orders['group']=='A']['revenue'].mean()-1)) "
   ]
  },
  {
   "cell_type": "code",
   "execution_count": 105,
   "metadata": {},
   "outputs": [
    {
     "name": "stdout",
     "output_type": "stream",
     "text": [
      "p-value 0.585\n",
      "It's not possible to reject the null hypothesis, the conclusion about the difference based on 'raw' data in the average bill cannot be made.\n"
     ]
    }
   ],
   "source": [
    "results =  stats.mannwhitneyu(\n",
    "    orders[orders['group']=='A']['revenue'], orders[orders['group']=='B']['revenue'], True, 'less')\n",
    "\n",
    "print('p-value', round(results.pvalue,3))\n",
    "alpha = 0.05 \n",
    "\n",
    "\n",
    "if results.pvalue < alpha:\n",
    "    print(\"We reject the null hypothesis: based on 'raw' data, \"\\\n",
    "    \"there are differences in the average bill between the groups.\")\n",
    "else:\n",
    "    print(\"It's not possible to reject the null hypothesis, the conclusion about the difference \"\\\n",
    "          \"based on 'raw' data in the average bill cannot be made.\")    "
   ]
  },
  {
   "cell_type": "markdown",
   "metadata": {},
   "source": [
    "Although calculations showed that the average bill of group B is higher than the average bill of group A by 25,9%, this obervation is not statistically significant. We do not reject the null hypothesis - the conclusion about the difference based on 'raw' data in the average bill cannot be made."
   ]
  },
  {
   "cell_type": "markdown",
   "metadata": {},
   "source": [
    "## 12. Statistical significance of differences in conversion between groups based on \"cleaned\" data.<a class=\"anchor\" id=\"part212\"></a> \n",
    "\n",
    "As a reminder, we have decided to consider users who have placed more than 1 order and odrers of over 27k as abnormal.\n",
    "\n",
    "So let's prepare our clean data first. \n",
    "\n",
    "Let's formulate hypotheses:\n",
    "\n",
    "- Н0 - there is no difference in conversion between groups based on 'cleaned' data\n",
    "- Н1 - there are differences in conversion between the groups based on 'cleaned' data"
   ]
  },
  {
   "cell_type": "code",
   "execution_count": 106,
   "metadata": {},
   "outputs": [],
   "source": [
    "abnormal_orders = pd.concat(\n",
    "    [\n",
    "        orders_by_users_a[orders_by_users_a['orders'] > 1]['visitor_id'],\n",
    "        orders_by_users_b[orders_by_users_b['orders'] > 1]['visitor_id'],\n",
    "    ],\n",
    "    axis=0,\n",
    ")"
   ]
  },
  {
   "cell_type": "code",
   "execution_count": 107,
   "metadata": {},
   "outputs": [],
   "source": [
    "abnormal_bills = orders[orders['revenue'] > 27000]['visitor_id']"
   ]
  },
  {
   "cell_type": "code",
   "execution_count": 108,
   "metadata": {},
   "outputs": [],
   "source": [
    "abnormal_users = (\n",
    "    pd.concat([abnormal_orders, abnormal_bills], axis=0)\n",
    "    .drop_duplicates()\n",
    "    .sort_values()\n",
    ")"
   ]
  },
  {
   "cell_type": "code",
   "execution_count": 109,
   "metadata": {},
   "outputs": [
    {
     "name": "stdout",
     "output_type": "stream",
     "text": [
      "Number of abnormal users: 86\n"
     ]
    }
   ],
   "source": [
    "print('Number of abnormal users:', abnormal_users.shape[0])"
   ]
  },
  {
   "cell_type": "code",
   "execution_count": 110,
   "metadata": {},
   "outputs": [],
   "source": [
    "sample_a_filtered = pd.concat(\n",
    "    [orders_by_users_a[np.logical_not(orders_by_users_a['visitor_id'].isin(abnormal_users))\n",
    "        ]['orders'], pd.Series(0,\n",
    "            index=np.arange(\n",
    "                visitors[visitors['group']=='A']['visitors'].sum() - len(orders_by_users_a['orders'])\n",
    "            ), name='orders')], axis=0)"
   ]
  },
  {
   "cell_type": "code",
   "execution_count": 111,
   "metadata": {},
   "outputs": [],
   "source": [
    "sample_b_filtered = pd.concat(\n",
    "    [orders_by_users_b[np.logical_not(orders_by_users_b['visitor_id'].isin(abnormal_users))\n",
    "        ]['orders'], pd.Series(0,\n",
    "            index=np.arange(\n",
    "                visitors[visitors['group']=='B']['visitors'].sum() - len(orders_by_users_b['orders'])\n",
    "            ), name='orders')], axis=0)"
   ]
  },
  {
   "cell_type": "code",
   "execution_count": 112,
   "metadata": {},
   "outputs": [
    {
     "name": "stdout",
     "output_type": "stream",
     "text": [
      "Deviation of group B conversion to group A: 0.174\n"
     ]
    }
   ],
   "source": [
    "print('Deviation of group B conversion to group A:', \"{0:.3f}\".\n",
    "      format(sample_b_filtered.mean() / sample_a_filtered.mean() - 1))"
   ]
  },
  {
   "cell_type": "code",
   "execution_count": 113,
   "metadata": {},
   "outputs": [
    {
     "name": "stdout",
     "output_type": "stream",
     "text": [
      "p-value 0.008\n",
      "We reject the null hypothesis: based on 'cleaned' data, there are differences in conversion between the groups.\n"
     ]
    }
   ],
   "source": [
    "results =  stats.mannwhitneyu(sample_a_filtered, sample_b_filtered, True, 'less')\n",
    "print('p-value', round(results.pvalue,3))\n",
    "alpha = 0.05 \n",
    "\n",
    "\n",
    "if results.pvalue < alpha:\n",
    "    print(\"We reject the null hypothesis: based on 'cleaned' data, \"\\\n",
    "    \"there are differences in conversion between the groups.\")\n",
    "else:\n",
    "    print(\"It's not possible to reject the null hypothesis, the conclusion about the difference \"\\\n",
    "          \"based on 'cleaned' data the conversion cannot be made.\")"
   ]
  },
  {
   "cell_type": "markdown",
   "metadata": {},
   "source": [
    "Even in data cleared of anomalies, there is a difference in conversion rates between groups. Group B's conversion is even higher than it was in the \"raw\" data.  "
   ]
  },
  {
   "cell_type": "markdown",
   "metadata": {},
   "source": [
    "## 13. Statistical significance of differences in average bill between groups based on \"cleaned\" data.<a class=\"anchor\" id=\"part213\"></a> \n",
    "\n",
    "Let's formulate hypotheses: \n",
    "- Н0 - there is no difference in the average bill between groups based on 'cleaned' data\n",
    "- Н1 - there are differences in the average bill between the groups based on 'cleaned' data"
   ]
  },
  {
   "cell_type": "code",
   "execution_count": 114,
   "metadata": {},
   "outputs": [
    {
     "name": "stdout",
     "output_type": "stream",
     "text": [
      "Deviation of group B average bill to group A: -0.034\n"
     ]
    }
   ],
   "source": [
    "print('Deviation of group B average bill to group A:', \n",
    "      \"{0:.3f}\".format(orders[np.logical_and(\n",
    "          orders['group'] == 'B', np.logical_not(\n",
    "              orders['visitor_id'].isin(abnormal_users)))]['revenue'].mean()\n",
    "        / orders[np.logical_and(orders['group'] == 'A',np.logical_not(\n",
    "            orders['visitor_id'].isin(abnormal_users)),\n",
    "            )]['revenue'].mean() - 1))"
   ]
  },
  {
   "cell_type": "code",
   "execution_count": 115,
   "metadata": {},
   "outputs": [
    {
     "name": "stdout",
     "output_type": "stream",
     "text": [
      "p-value 0.637\n",
      "It's not possible to reject the null hypothesis, the conclusion about the difference based on 'cleaned' data in the average bill cannot be made.\n"
     ]
    }
   ],
   "source": [
    "results =  stats.mannwhitneyu(\n",
    "    orders[np.logical_and(orders['group'] == 'A', \n",
    "                          np.logical_not(orders['visitor_id'].isin(abnormal_users)))]['revenue'],\n",
    "    orders[np.logical_and(orders['group'] == 'B', \n",
    "                          np.logical_not(orders['visitor_id'].isin(abnormal_users)))]['revenue'], \n",
    "    True, 'less')\n",
    "\n",
    "\n",
    "print('p-value', round(results.pvalue,3))\n",
    "alpha = 0.05 \n",
    "\n",
    "\n",
    "if results.pvalue < alpha:\n",
    "    print(\"We reject the null hypothesis: based on 'cleaned' data, \"\\\n",
    "    \"there are differences in the average bill between the groups.\")\n",
    "else:\n",
    "    print(\"It's not possible to reject the null hypothesis, the conclusion about the difference \"\\\n",
    "          \"based on 'cleaned' data in the average bill cannot be made.\")    "
   ]
  },
  {
   "cell_type": "markdown",
   "metadata": {},
   "source": [
    "And so the calculation of the average bill showed that there was no statistically significant difference between groups, and the deviation became much smaller. \n",
    "\n",
    "But the average group B bill is higher than the average group A bill (and even higher, than it was according to the \"raw\" data). \n",
    "\n",
    "\n",
    "## 14. Test result decision.<a class=\"anchor\" id=\"part214\"></a> \n",
    "\n",
    "**In total:**\n",
    "\n",
    "- THERE IS a statistically significant difference in conversion between the groups for both 'ras' and after-filtered anomalies data. \n",
    "\n",
    "- There is NO statistically significant difference in the average bill between groups, either in the 'raw' data or in the data after anomaly filtering.\n",
    "\n",
    "- Also all the conversion graphs show consistenly higher result for group B than for group A, and the graph of the relative increase in conversion of group B to group A tell us about at least a 10% difference.\n",
    "\n",
    "- The cleaned data also tells us that the conversion rate is even higher that it was with a 'raw' data. "
   ]
  },
  {
   "cell_type": "markdown",
   "metadata": {},
   "source": [
    "# 15. Conclusions from the second part.<a class=\"anchor\" id=\"part215\"></a> \n",
    "\n",
    "\n",
    "In pre-testing of the test we found clean data, no missing values, no duplicates, but we also checked how correctly the separation into groups was perfomed and found users who figure in both group A and group B. \n",
    "\n",
    "We decieded to delete these entries, because this is less than 5%, but these 58 users may have an impact on the test results. \n",
    "\n",
    "The period under consideration in both datasets is from 1st to 1st August 2019.\n",
    "\n",
    "We analysed the A/B-test in 7 graphs, used percentiles to identify abnormal users and further cleaning of data outliers, and calculation of the 4 statistically significance differences. \n",
    "\n",
    "The analysis of the A/B-test is over and it's time to make a decision on the test result. \n",
    "\n",
    "\n",
    "Solution options: \n",
    "1. Stop the test, record the success of one of the groups. \n",
    "2. Stop the test, record no difference between the groups. \n",
    "3. Continue the test.\n",
    "\n",
    "\n",
    "Calculated conversion rates, cumulative matrics of avarage bill and revenue and all our graphs indicate the leadership of group B and fixing the result. \n",
    "\n",
    "There was guessing about abnormal orders in group B from the average bill and revenue graphs, but the data cleared of outliers also tell us that group B's conversion rate is even higher, than it was in the calculation with the 'raw' data. \n",
    "\n",
    "**So we stop the test and record the win for Group B.**\n"
   ]
  },
  {
   "cell_type": "code",
   "execution_count": null,
   "metadata": {},
   "outputs": [],
   "source": []
  }
 ],
 "metadata": {
  "ExecuteTimeLog": [
   {
    "duration": 1272,
    "start_time": "2022-10-10T07:48:59.134Z"
   },
   {
    "duration": 67,
    "start_time": "2022-10-10T07:49:26.786Z"
   },
   {
    "duration": 32,
    "start_time": "2022-10-10T07:49:31.459Z"
   },
   {
    "duration": 1160,
    "start_time": "2022-10-10T08:03:44.819Z"
   },
   {
    "duration": 31,
    "start_time": "2022-10-10T08:03:50.890Z"
   },
   {
    "duration": 28,
    "start_time": "2022-10-10T08:03:56.929Z"
   },
   {
    "duration": 31,
    "start_time": "2022-10-10T08:05:42.948Z"
   },
   {
    "duration": 3,
    "start_time": "2022-10-10T08:12:13.497Z"
   },
   {
    "duration": 31,
    "start_time": "2022-10-10T08:13:13.273Z"
   },
   {
    "duration": 623,
    "start_time": "2022-10-10T08:13:16.911Z"
   },
   {
    "duration": 2,
    "start_time": "2022-10-10T08:13:51.025Z"
   },
   {
    "duration": 642,
    "start_time": "2022-10-10T08:13:53.358Z"
   },
   {
    "duration": 3,
    "start_time": "2022-10-10T08:13:58.256Z"
   },
   {
    "duration": 29,
    "start_time": "2022-10-10T08:13:59.121Z"
   },
   {
    "duration": 3,
    "start_time": "2022-10-10T08:14:00.824Z"
   },
   {
    "duration": 7,
    "start_time": "2022-10-10T08:14:02.295Z"
   },
   {
    "duration": 29,
    "start_time": "2022-10-10T08:21:51.629Z"
   },
   {
    "duration": 87,
    "start_time": "2022-10-10T08:24:00.846Z"
   },
   {
    "duration": 1296,
    "start_time": "2022-10-10T08:26:17.519Z"
   },
   {
    "duration": 9,
    "start_time": "2022-10-10T08:26:42.960Z"
   },
   {
    "duration": 5,
    "start_time": "2022-10-10T08:26:46.920Z"
   },
   {
    "duration": 13,
    "start_time": "2022-10-10T08:28:24.688Z"
   },
   {
    "duration": 8,
    "start_time": "2022-10-10T08:28:32.792Z"
   },
   {
    "duration": 3,
    "start_time": "2022-10-10T08:52:53.068Z"
   },
   {
    "duration": 8,
    "start_time": "2022-10-10T08:52:58.149Z"
   },
   {
    "duration": 30,
    "start_time": "2022-10-10T08:53:46.587Z"
   },
   {
    "duration": 11,
    "start_time": "2022-10-10T08:54:05.631Z"
   },
   {
    "duration": 1078,
    "start_time": "2022-10-10T08:54:12.606Z"
   },
   {
    "duration": 36,
    "start_time": "2022-10-10T08:54:13.686Z"
   },
   {
    "duration": 11,
    "start_time": "2022-10-10T08:54:13.724Z"
   },
   {
    "duration": 6,
    "start_time": "2022-10-10T08:54:13.737Z"
   },
   {
    "duration": 30,
    "start_time": "2022-10-10T09:00:20.649Z"
   },
   {
    "duration": 27,
    "start_time": "2022-10-10T09:00:37.283Z"
   },
   {
    "duration": 8,
    "start_time": "2022-10-10T09:00:40.481Z"
   },
   {
    "duration": 8,
    "start_time": "2022-10-10T09:00:51.305Z"
   },
   {
    "duration": 9,
    "start_time": "2022-10-10T09:00:56.170Z"
   },
   {
    "duration": 1097,
    "start_time": "2022-10-10T09:05:40.292Z"
   },
   {
    "duration": 25,
    "start_time": "2022-10-10T09:05:41.391Z"
   },
   {
    "duration": 11,
    "start_time": "2022-10-10T09:05:41.417Z"
   },
   {
    "duration": 20,
    "start_time": "2022-10-10T09:05:41.429Z"
   },
   {
    "duration": 7,
    "start_time": "2022-10-10T09:05:41.450Z"
   },
   {
    "duration": 8,
    "start_time": "2022-10-10T09:06:26.380Z"
   },
   {
    "duration": 8,
    "start_time": "2022-10-10T09:06:30.132Z"
   },
   {
    "duration": 9,
    "start_time": "2022-10-10T09:06:34.827Z"
   },
   {
    "duration": 9,
    "start_time": "2022-10-10T09:06:38.203Z"
   },
   {
    "duration": 9,
    "start_time": "2022-10-10T09:06:42.884Z"
   },
   {
    "duration": 1048,
    "start_time": "2022-10-10T09:06:51.330Z"
   },
   {
    "duration": 26,
    "start_time": "2022-10-10T09:06:52.380Z"
   },
   {
    "duration": 12,
    "start_time": "2022-10-10T09:06:52.408Z"
   },
   {
    "duration": 12,
    "start_time": "2022-10-10T09:06:52.422Z"
   },
   {
    "duration": 6,
    "start_time": "2022-10-10T09:06:52.436Z"
   },
   {
    "duration": 90,
    "start_time": "2022-10-10T09:12:43.055Z"
   },
   {
    "duration": 60,
    "start_time": "2022-10-10T09:13:48.512Z"
   },
   {
    "duration": 105,
    "start_time": "2022-10-10T09:14:40.375Z"
   },
   {
    "duration": 47,
    "start_time": "2022-10-10T09:14:42.970Z"
   },
   {
    "duration": 11,
    "start_time": "2022-10-10T09:14:45.040Z"
   },
   {
    "duration": 8,
    "start_time": "2022-10-10T09:15:10.832Z"
   },
   {
    "duration": 4,
    "start_time": "2022-10-10T09:16:14.153Z"
   },
   {
    "duration": 2,
    "start_time": "2022-10-10T09:17:51.994Z"
   },
   {
    "duration": 8,
    "start_time": "2022-10-10T09:17:53.935Z"
   },
   {
    "duration": 2,
    "start_time": "2022-10-10T09:19:15.947Z"
   },
   {
    "duration": 3,
    "start_time": "2022-10-10T09:20:08.579Z"
   },
   {
    "duration": 6,
    "start_time": "2022-10-10T09:20:22.115Z"
   },
   {
    "duration": 6,
    "start_time": "2022-10-10T09:20:43.876Z"
   },
   {
    "duration": 9,
    "start_time": "2022-10-10T09:51:28.332Z"
   },
   {
    "duration": 8,
    "start_time": "2022-10-10T09:51:58.428Z"
   },
   {
    "duration": 5,
    "start_time": "2022-10-10T09:52:07.132Z"
   },
   {
    "duration": 4,
    "start_time": "2022-10-10T09:52:18.624Z"
   },
   {
    "duration": 293,
    "start_time": "2022-10-10T09:55:58.860Z"
   },
   {
    "duration": 3,
    "start_time": "2022-10-10T09:56:19.307Z"
   },
   {
    "duration": 13,
    "start_time": "2022-10-10T09:56:22.779Z"
   },
   {
    "duration": 3,
    "start_time": "2022-10-10T09:56:25.476Z"
   },
   {
    "duration": 11,
    "start_time": "2022-10-10T09:56:28.768Z"
   },
   {
    "duration": 9,
    "start_time": "2022-10-10T09:56:33.465Z"
   },
   {
    "duration": 3,
    "start_time": "2022-10-10T09:59:44.172Z"
   },
   {
    "duration": 4,
    "start_time": "2022-10-10T10:00:34.557Z"
   },
   {
    "duration": 4,
    "start_time": "2022-10-10T10:02:12.827Z"
   },
   {
    "duration": 6,
    "start_time": "2022-10-10T10:09:27.486Z"
   },
   {
    "duration": 4,
    "start_time": "2022-10-10T10:09:34.815Z"
   },
   {
    "duration": 5,
    "start_time": "2022-10-10T10:09:44.695Z"
   },
   {
    "duration": 6,
    "start_time": "2022-10-10T10:10:14.959Z"
   },
   {
    "duration": 5,
    "start_time": "2022-10-10T10:11:25.481Z"
   },
   {
    "duration": 5,
    "start_time": "2022-10-10T10:11:31.504Z"
   },
   {
    "duration": 10,
    "start_time": "2022-10-10T10:17:04.082Z"
   },
   {
    "duration": 3,
    "start_time": "2022-10-10T10:17:16.436Z"
   },
   {
    "duration": 8,
    "start_time": "2022-10-10T10:17:20.619Z"
   },
   {
    "duration": 8,
    "start_time": "2022-10-10T10:19:12.052Z"
   },
   {
    "duration": 1048,
    "start_time": "2022-10-10T10:25:15.352Z"
   },
   {
    "duration": 28,
    "start_time": "2022-10-10T10:25:16.402Z"
   },
   {
    "duration": 11,
    "start_time": "2022-10-10T10:25:16.431Z"
   },
   {
    "duration": 9,
    "start_time": "2022-10-10T10:25:16.444Z"
   },
   {
    "duration": 6,
    "start_time": "2022-10-10T10:25:16.454Z"
   },
   {
    "duration": 37,
    "start_time": "2022-10-10T10:25:16.461Z"
   },
   {
    "duration": 10,
    "start_time": "2022-10-10T10:25:16.500Z"
   },
   {
    "duration": 9,
    "start_time": "2022-10-10T10:25:16.512Z"
   },
   {
    "duration": 5,
    "start_time": "2022-10-10T10:25:16.523Z"
   },
   {
    "duration": 20,
    "start_time": "2022-10-10T10:25:16.530Z"
   },
   {
    "duration": 10,
    "start_time": "2022-10-10T10:25:16.552Z"
   },
   {
    "duration": 9,
    "start_time": "2022-10-10T10:25:16.563Z"
   },
   {
    "duration": 4,
    "start_time": "2022-10-10T10:25:16.573Z"
   },
   {
    "duration": 31,
    "start_time": "2022-10-10T10:25:16.578Z"
   },
   {
    "duration": 10,
    "start_time": "2022-10-10T10:25:16.610Z"
   },
   {
    "duration": 19,
    "start_time": "2022-10-10T10:25:16.621Z"
   },
   {
    "duration": 9,
    "start_time": "2022-10-10T10:25:16.642Z"
   },
   {
    "duration": 9,
    "start_time": "2022-10-10T10:25:16.652Z"
   },
   {
    "duration": 5,
    "start_time": "2022-10-10T10:25:16.662Z"
   },
   {
    "duration": 6,
    "start_time": "2022-10-10T10:25:16.668Z"
   },
   {
    "duration": 8,
    "start_time": "2022-10-10T10:25:16.675Z"
   },
   {
    "duration": 10,
    "start_time": "2022-10-10T10:25:16.684Z"
   },
   {
    "duration": 19,
    "start_time": "2022-10-10T10:25:16.695Z"
   },
   {
    "duration": 7,
    "start_time": "2022-10-10T10:25:16.715Z"
   },
   {
    "duration": 5,
    "start_time": "2022-10-10T10:29:37.566Z"
   },
   {
    "duration": 9,
    "start_time": "2022-10-10T10:29:40.541Z"
   },
   {
    "duration": 12,
    "start_time": "2022-10-10T10:29:45.021Z"
   },
   {
    "duration": 127,
    "start_time": "2022-10-10T10:30:26.173Z"
   },
   {
    "duration": 23,
    "start_time": "2022-10-10T10:31:03.662Z"
   },
   {
    "duration": 11,
    "start_time": "2022-10-10T10:31:17.947Z"
   },
   {
    "duration": 153,
    "start_time": "2022-10-10T10:31:27.145Z"
   },
   {
    "duration": 10,
    "start_time": "2022-10-10T10:32:36.799Z"
   },
   {
    "duration": 110,
    "start_time": "2022-10-10T10:32:47.654Z"
   },
   {
    "duration": 6,
    "start_time": "2022-10-10T10:33:35.649Z"
   },
   {
    "duration": 12,
    "start_time": "2022-10-10T10:33:39.342Z"
   },
   {
    "duration": 6,
    "start_time": "2022-10-10T10:35:08.362Z"
   },
   {
    "duration": 12,
    "start_time": "2022-10-10T10:35:09.424Z"
   },
   {
    "duration": 9,
    "start_time": "2022-10-10T10:35:20.416Z"
   },
   {
    "duration": 6,
    "start_time": "2022-10-10T10:35:35.249Z"
   },
   {
    "duration": 10,
    "start_time": "2022-10-10T10:41:25.140Z"
   },
   {
    "duration": 9,
    "start_time": "2022-10-10T10:41:36.773Z"
   },
   {
    "duration": 10,
    "start_time": "2022-10-10T10:42:00.355Z"
   },
   {
    "duration": 253,
    "start_time": "2022-10-10T10:42:30.652Z"
   },
   {
    "duration": 163,
    "start_time": "2022-10-10T10:43:08.268Z"
   },
   {
    "duration": 242,
    "start_time": "2022-10-10T10:43:24.396Z"
   },
   {
    "duration": 12,
    "start_time": "2022-10-10T10:47:49.961Z"
   },
   {
    "duration": 5,
    "start_time": "2022-10-10T10:47:59.263Z"
   },
   {
    "duration": 4,
    "start_time": "2022-10-10T10:48:01.280Z"
   },
   {
    "duration": 6,
    "start_time": "2022-10-10T10:48:11.078Z"
   },
   {
    "duration": 186,
    "start_time": "2022-10-10T10:49:18.327Z"
   },
   {
    "duration": 184,
    "start_time": "2022-10-10T10:49:32.616Z"
   },
   {
    "duration": 247,
    "start_time": "2022-10-10T11:02:54.239Z"
   },
   {
    "duration": 287,
    "start_time": "2022-10-10T11:03:31.624Z"
   },
   {
    "duration": 4,
    "start_time": "2022-10-10T11:08:02.449Z"
   },
   {
    "duration": 4,
    "start_time": "2022-10-10T11:09:18.532Z"
   },
   {
    "duration": 258,
    "start_time": "2022-10-10T11:09:55.467Z"
   },
   {
    "duration": 221,
    "start_time": "2022-10-10T11:10:43.760Z"
   },
   {
    "duration": 197,
    "start_time": "2022-10-10T11:11:28.958Z"
   },
   {
    "duration": 201,
    "start_time": "2022-10-10T11:13:11.973Z"
   },
   {
    "duration": 1039,
    "start_time": "2022-10-10T11:14:06.271Z"
   },
   {
    "duration": 29,
    "start_time": "2022-10-10T11:14:07.316Z"
   },
   {
    "duration": 10,
    "start_time": "2022-10-10T11:14:07.347Z"
   },
   {
    "duration": 9,
    "start_time": "2022-10-10T11:14:07.359Z"
   },
   {
    "duration": 5,
    "start_time": "2022-10-10T11:14:07.370Z"
   },
   {
    "duration": 41,
    "start_time": "2022-10-10T11:14:07.377Z"
   },
   {
    "duration": 8,
    "start_time": "2022-10-10T11:14:07.420Z"
   },
   {
    "duration": 23,
    "start_time": "2022-10-10T11:14:07.430Z"
   },
   {
    "duration": 5,
    "start_time": "2022-10-10T11:14:07.455Z"
   },
   {
    "duration": 21,
    "start_time": "2022-10-10T11:14:07.463Z"
   },
   {
    "duration": 18,
    "start_time": "2022-10-10T11:14:07.485Z"
   },
   {
    "duration": 9,
    "start_time": "2022-10-10T11:14:07.505Z"
   },
   {
    "duration": 5,
    "start_time": "2022-10-10T11:14:07.516Z"
   },
   {
    "duration": 16,
    "start_time": "2022-10-10T11:14:07.522Z"
   },
   {
    "duration": 12,
    "start_time": "2022-10-10T11:14:07.540Z"
   },
   {
    "duration": 15,
    "start_time": "2022-10-10T11:14:07.554Z"
   },
   {
    "duration": 10,
    "start_time": "2022-10-10T11:14:07.570Z"
   },
   {
    "duration": 13,
    "start_time": "2022-10-10T11:14:07.582Z"
   },
   {
    "duration": 13,
    "start_time": "2022-10-10T11:14:07.596Z"
   },
   {
    "duration": 13,
    "start_time": "2022-10-10T11:14:07.611Z"
   },
   {
    "duration": 7,
    "start_time": "2022-10-10T11:14:07.625Z"
   },
   {
    "duration": 12,
    "start_time": "2022-10-10T11:14:07.633Z"
   },
   {
    "duration": 9,
    "start_time": "2022-10-10T11:14:07.647Z"
   },
   {
    "duration": 9,
    "start_time": "2022-10-10T11:14:07.657Z"
   },
   {
    "duration": 9,
    "start_time": "2022-10-10T11:14:07.667Z"
   },
   {
    "duration": 163,
    "start_time": "2022-10-10T11:14:07.677Z"
   },
   {
    "duration": 119,
    "start_time": "2022-10-10T11:14:07.841Z"
   },
   {
    "duration": 11,
    "start_time": "2022-10-10T11:14:07.963Z"
   },
   {
    "duration": 5,
    "start_time": "2022-10-10T11:14:07.976Z"
   },
   {
    "duration": 5,
    "start_time": "2022-10-10T11:14:07.983Z"
   },
   {
    "duration": 283,
    "start_time": "2022-10-10T11:14:07.990Z"
   },
   {
    "duration": 195,
    "start_time": "2022-10-10T11:14:08.274Z"
   },
   {
    "duration": 317,
    "start_time": "2022-10-10T11:14:08.471Z"
   },
   {
    "duration": 4,
    "start_time": "2022-10-10T11:14:08.789Z"
   },
   {
    "duration": 17,
    "start_time": "2022-10-10T11:14:08.794Z"
   },
   {
    "duration": 223,
    "start_time": "2022-10-10T11:14:08.812Z"
   },
   {
    "duration": 313,
    "start_time": "2022-10-10T11:20:33.207Z"
   },
   {
    "duration": 289,
    "start_time": "2022-10-10T11:37:00.057Z"
   },
   {
    "duration": 312,
    "start_time": "2022-10-10T11:38:20.820Z"
   },
   {
    "duration": 162,
    "start_time": "2022-10-10T11:42:25.034Z"
   },
   {
    "duration": 111,
    "start_time": "2022-10-10T11:42:53.347Z"
   },
   {
    "duration": 110,
    "start_time": "2022-10-10T11:45:27.093Z"
   },
   {
    "duration": 9,
    "start_time": "2022-10-10T11:48:06.358Z"
   },
   {
    "duration": 6,
    "start_time": "2022-10-10T11:48:36.806Z"
   },
   {
    "duration": 7,
    "start_time": "2022-10-10T11:48:45.712Z"
   },
   {
    "duration": 11,
    "start_time": "2022-10-10T11:50:27.376Z"
   },
   {
    "duration": 95,
    "start_time": "2022-10-10T11:54:33.018Z"
   },
   {
    "duration": 116,
    "start_time": "2022-10-10T11:56:38.332Z"
   },
   {
    "duration": 143,
    "start_time": "2022-10-10T11:57:06.149Z"
   },
   {
    "duration": 164,
    "start_time": "2022-10-10T11:57:16.588Z"
   },
   {
    "duration": 108,
    "start_time": "2022-10-10T11:58:09.540Z"
   },
   {
    "duration": 112,
    "start_time": "2022-10-10T11:58:32.523Z"
   },
   {
    "duration": 127,
    "start_time": "2022-10-10T11:58:59.476Z"
   },
   {
    "duration": 152,
    "start_time": "2022-10-10T11:59:07.636Z"
   },
   {
    "duration": 5,
    "start_time": "2022-10-10T12:19:23.831Z"
   },
   {
    "duration": 4,
    "start_time": "2022-10-10T12:20:15.552Z"
   },
   {
    "duration": 4,
    "start_time": "2022-10-10T12:20:32.880Z"
   },
   {
    "duration": 4,
    "start_time": "2022-10-10T12:20:41.904Z"
   },
   {
    "duration": 4,
    "start_time": "2022-10-10T12:20:45.688Z"
   },
   {
    "duration": 106,
    "start_time": "2022-10-10T13:05:50.666Z"
   },
   {
    "duration": 10,
    "start_time": "2022-10-10T13:06:05.522Z"
   },
   {
    "duration": 4,
    "start_time": "2022-10-10T13:06:09.747Z"
   },
   {
    "duration": 4,
    "start_time": "2022-10-10T13:06:13.386Z"
   },
   {
    "duration": 131,
    "start_time": "2022-10-10T13:15:05.990Z"
   },
   {
    "duration": 162,
    "start_time": "2022-10-10T13:15:24.575Z"
   },
   {
    "duration": 133,
    "start_time": "2022-10-10T13:16:29.561Z"
   },
   {
    "duration": 204,
    "start_time": "2022-10-10T13:16:31.650Z"
   },
   {
    "duration": 80,
    "start_time": "2022-10-10T13:16:52.832Z"
   },
   {
    "duration": 216,
    "start_time": "2022-10-10T13:16:55.352Z"
   },
   {
    "duration": 225,
    "start_time": "2022-10-10T13:17:50.201Z"
   },
   {
    "duration": 63,
    "start_time": "2022-10-10T13:19:25.370Z"
   },
   {
    "duration": 235,
    "start_time": "2022-10-10T13:19:28.985Z"
   },
   {
    "duration": 221,
    "start_time": "2022-10-10T13:19:36.681Z"
   },
   {
    "duration": 211,
    "start_time": "2022-10-10T13:20:00.961Z"
   },
   {
    "duration": 356,
    "start_time": "2022-10-10T13:22:54.221Z"
   },
   {
    "duration": 163,
    "start_time": "2022-10-10T13:23:28.092Z"
   },
   {
    "duration": 158,
    "start_time": "2022-10-10T13:23:38.395Z"
   },
   {
    "duration": 165,
    "start_time": "2022-10-10T13:23:44.787Z"
   },
   {
    "duration": 165,
    "start_time": "2022-10-10T13:24:04.812Z"
   },
   {
    "duration": 173,
    "start_time": "2022-10-10T13:25:26.604Z"
   },
   {
    "duration": 209,
    "start_time": "2022-10-10T13:25:34.020Z"
   },
   {
    "duration": 4,
    "start_time": "2022-10-10T13:32:27.264Z"
   },
   {
    "duration": 13,
    "start_time": "2022-10-10T13:47:03.864Z"
   },
   {
    "duration": 83,
    "start_time": "2022-10-10T13:53:58.085Z"
   },
   {
    "duration": 73,
    "start_time": "2022-10-10T13:54:11.124Z"
   },
   {
    "duration": 71,
    "start_time": "2022-10-10T13:54:35.653Z"
   },
   {
    "duration": 9,
    "start_time": "2022-10-10T13:54:45.484Z"
   },
   {
    "duration": 75,
    "start_time": "2022-10-10T13:55:13.138Z"
   },
   {
    "duration": 9,
    "start_time": "2022-10-10T13:55:15.861Z"
   },
   {
    "duration": 75,
    "start_time": "2022-10-10T13:55:19.301Z"
   },
   {
    "duration": 9,
    "start_time": "2022-10-10T13:55:20.645Z"
   },
   {
    "duration": 1145,
    "start_time": "2022-10-10T14:07:58.725Z"
   },
   {
    "duration": 27,
    "start_time": "2022-10-10T14:07:59.871Z"
   },
   {
    "duration": 21,
    "start_time": "2022-10-10T14:07:59.899Z"
   },
   {
    "duration": 10,
    "start_time": "2022-10-10T14:07:59.922Z"
   },
   {
    "duration": 6,
    "start_time": "2022-10-10T14:07:59.934Z"
   },
   {
    "duration": 37,
    "start_time": "2022-10-10T14:07:59.942Z"
   },
   {
    "duration": 10,
    "start_time": "2022-10-10T14:07:59.981Z"
   },
   {
    "duration": 9,
    "start_time": "2022-10-10T14:07:59.992Z"
   },
   {
    "duration": 34,
    "start_time": "2022-10-10T14:08:00.003Z"
   },
   {
    "duration": 25,
    "start_time": "2022-10-10T14:08:00.039Z"
   },
   {
    "duration": 18,
    "start_time": "2022-10-10T14:08:00.065Z"
   },
   {
    "duration": 23,
    "start_time": "2022-10-10T14:08:00.085Z"
   },
   {
    "duration": 17,
    "start_time": "2022-10-10T14:08:00.110Z"
   },
   {
    "duration": 14,
    "start_time": "2022-10-10T14:08:00.130Z"
   },
   {
    "duration": 29,
    "start_time": "2022-10-10T14:08:00.145Z"
   },
   {
    "duration": 43,
    "start_time": "2022-10-10T14:08:00.176Z"
   },
   {
    "duration": 21,
    "start_time": "2022-10-10T14:08:00.221Z"
   },
   {
    "duration": 35,
    "start_time": "2022-10-10T14:08:00.243Z"
   },
   {
    "duration": 60,
    "start_time": "2022-10-10T14:08:00.280Z"
   },
   {
    "duration": 18,
    "start_time": "2022-10-10T14:08:00.342Z"
   },
   {
    "duration": 18,
    "start_time": "2022-10-10T14:08:00.361Z"
   },
   {
    "duration": 21,
    "start_time": "2022-10-10T14:08:00.380Z"
   },
   {
    "duration": 37,
    "start_time": "2022-10-10T14:08:00.402Z"
   },
   {
    "duration": 37,
    "start_time": "2022-10-10T14:08:00.440Z"
   },
   {
    "duration": 24,
    "start_time": "2022-10-10T14:08:00.478Z"
   },
   {
    "duration": 182,
    "start_time": "2022-10-10T14:08:00.504Z"
   },
   {
    "duration": 143,
    "start_time": "2022-10-10T14:08:00.688Z"
   },
   {
    "duration": 14,
    "start_time": "2022-10-10T14:08:00.833Z"
   },
   {
    "duration": 10,
    "start_time": "2022-10-10T14:08:00.849Z"
   },
   {
    "duration": 6,
    "start_time": "2022-10-10T14:08:00.860Z"
   },
   {
    "duration": 292,
    "start_time": "2022-10-10T14:08:00.868Z"
   },
   {
    "duration": 237,
    "start_time": "2022-10-10T14:08:01.162Z"
   },
   {
    "duration": 323,
    "start_time": "2022-10-10T14:08:01.401Z"
   },
   {
    "duration": 4,
    "start_time": "2022-10-10T14:08:01.726Z"
   },
   {
    "duration": 16,
    "start_time": "2022-10-10T14:08:01.731Z"
   },
   {
    "duration": 235,
    "start_time": "2022-10-10T14:08:01.748Z"
   },
   {
    "duration": 324,
    "start_time": "2022-10-10T14:08:01.985Z"
   },
   {
    "duration": 16,
    "start_time": "2022-10-10T14:08:02.310Z"
   },
   {
    "duration": 152,
    "start_time": "2022-10-10T14:08:02.328Z"
   },
   {
    "duration": 159,
    "start_time": "2022-10-10T14:08:02.482Z"
   },
   {
    "duration": 5,
    "start_time": "2022-10-10T14:08:02.645Z"
   },
   {
    "duration": 296,
    "start_time": "2022-10-10T14:08:02.652Z"
   },
   {
    "duration": 182,
    "start_time": "2022-10-10T14:08:02.950Z"
   },
   {
    "duration": 5,
    "start_time": "2022-10-10T14:08:03.134Z"
   },
   {
    "duration": 15,
    "start_time": "2022-10-10T14:08:03.140Z"
   },
   {
    "duration": 78,
    "start_time": "2022-10-10T14:08:03.157Z"
   },
   {
    "duration": 87,
    "start_time": "2022-10-10T14:08:03.236Z"
   },
   {
    "duration": 2,
    "start_time": "2022-10-10T14:08:03.325Z"
   },
   {
    "duration": 108,
    "start_time": "2022-10-10T14:08:48.021Z"
   },
   {
    "duration": 5,
    "start_time": "2022-10-10T14:10:22.361Z"
   },
   {
    "duration": 6,
    "start_time": "2022-10-10T14:13:04.170Z"
   },
   {
    "duration": 10,
    "start_time": "2022-10-10T14:13:09.906Z"
   },
   {
    "duration": 6,
    "start_time": "2022-10-10T14:13:14.138Z"
   },
   {
    "duration": 9,
    "start_time": "2022-10-10T14:15:24.075Z"
   },
   {
    "duration": 3,
    "start_time": "2022-10-10T14:15:46.579Z"
   },
   {
    "duration": 24,
    "start_time": "2022-10-10T14:15:52.125Z"
   },
   {
    "duration": 3,
    "start_time": "2022-10-10T14:17:51.226Z"
   },
   {
    "duration": 3,
    "start_time": "2022-10-10T14:19:00.149Z"
   },
   {
    "duration": 19,
    "start_time": "2022-10-10T14:20:45.551Z"
   },
   {
    "duration": 8,
    "start_time": "2022-10-10T14:21:27.495Z"
   },
   {
    "duration": 20,
    "start_time": "2022-10-10T14:22:13.857Z"
   },
   {
    "duration": 9,
    "start_time": "2022-10-10T14:24:14.120Z"
   },
   {
    "duration": 20,
    "start_time": "2022-10-10T14:24:22.952Z"
   },
   {
    "duration": 46,
    "start_time": "2022-10-10T14:24:34.547Z"
   },
   {
    "duration": 6,
    "start_time": "2022-10-10T14:31:50.932Z"
   },
   {
    "duration": 10,
    "start_time": "2022-10-10T14:32:19.963Z"
   },
   {
    "duration": 10,
    "start_time": "2022-10-10T14:34:01.116Z"
   },
   {
    "duration": 12,
    "start_time": "2022-10-10T14:34:22.967Z"
   },
   {
    "duration": 3,
    "start_time": "2022-10-10T14:34:41.879Z"
   },
   {
    "duration": 35,
    "start_time": "2022-10-10T14:34:49.885Z"
   },
   {
    "duration": 63,
    "start_time": "2022-10-10T14:35:46.238Z"
   },
   {
    "duration": 36,
    "start_time": "2022-10-10T14:36:35.830Z"
   },
   {
    "duration": 8,
    "start_time": "2022-10-10T14:44:23.539Z"
   },
   {
    "duration": 38,
    "start_time": "2022-10-10T14:45:52.779Z"
   },
   {
    "duration": 25,
    "start_time": "2022-10-10T14:45:58.900Z"
   },
   {
    "duration": 69,
    "start_time": "2022-10-10T14:46:34.741Z"
   },
   {
    "duration": 20,
    "start_time": "2022-10-10T14:46:46.981Z"
   },
   {
    "duration": 37,
    "start_time": "2022-10-10T14:47:07.533Z"
   },
   {
    "duration": 36,
    "start_time": "2022-10-10T14:47:17.453Z"
   },
   {
    "duration": 37,
    "start_time": "2022-10-10T14:51:46.063Z"
   },
   {
    "duration": 3,
    "start_time": "2022-10-10T14:52:43.576Z"
   },
   {
    "duration": 20,
    "start_time": "2022-10-10T14:53:24.976Z"
   },
   {
    "duration": 79,
    "start_time": "2022-10-10T14:53:36.192Z"
   },
   {
    "duration": 20,
    "start_time": "2022-10-10T14:53:45.681Z"
   },
   {
    "duration": 21,
    "start_time": "2022-10-10T14:53:52.081Z"
   },
   {
    "duration": 22,
    "start_time": "2022-10-10T14:54:01.176Z"
   },
   {
    "duration": 22,
    "start_time": "2022-10-10T14:54:04.864Z"
   },
   {
    "duration": 6,
    "start_time": "2022-10-10T14:56:32.049Z"
   },
   {
    "duration": 9,
    "start_time": "2022-10-10T14:57:40.515Z"
   },
   {
    "duration": 10,
    "start_time": "2022-10-10T14:58:27.748Z"
   },
   {
    "duration": 8,
    "start_time": "2022-10-10T15:07:55.552Z"
   },
   {
    "duration": 8,
    "start_time": "2022-10-10T15:08:20.600Z"
   },
   {
    "duration": 6,
    "start_time": "2022-10-10T15:10:28.394Z"
   },
   {
    "duration": 5,
    "start_time": "2022-10-10T15:10:33.642Z"
   },
   {
    "duration": 3,
    "start_time": "2022-10-10T15:11:40.188Z"
   },
   {
    "duration": 4,
    "start_time": "2022-10-10T15:11:42.659Z"
   },
   {
    "duration": 5,
    "start_time": "2022-10-10T15:12:05.381Z"
   },
   {
    "duration": 4,
    "start_time": "2022-10-10T15:12:06.434Z"
   },
   {
    "duration": 5,
    "start_time": "2022-10-10T15:12:41.211Z"
   },
   {
    "duration": 4,
    "start_time": "2022-10-10T15:12:44.251Z"
   },
   {
    "duration": 3,
    "start_time": "2022-10-10T15:12:50.187Z"
   },
   {
    "duration": 3,
    "start_time": "2022-10-10T15:17:40.854Z"
   },
   {
    "duration": 8,
    "start_time": "2022-10-10T15:29:35.996Z"
   },
   {
    "duration": 10,
    "start_time": "2022-10-10T15:30:46.035Z"
   },
   {
    "duration": 7,
    "start_time": "2022-10-10T15:30:56.059Z"
   },
   {
    "duration": 8,
    "start_time": "2022-10-10T15:33:41.542Z"
   },
   {
    "duration": 8,
    "start_time": "2022-10-10T15:33:47.525Z"
   },
   {
    "duration": 5,
    "start_time": "2022-10-10T15:33:50.789Z"
   },
   {
    "duration": 6,
    "start_time": "2022-10-10T15:34:06.708Z"
   },
   {
    "duration": 7,
    "start_time": "2022-10-10T15:34:53.390Z"
   },
   {
    "duration": 4,
    "start_time": "2022-10-10T15:34:57.335Z"
   },
   {
    "duration": 6,
    "start_time": "2022-10-10T15:35:01.686Z"
   },
   {
    "duration": 4,
    "start_time": "2022-10-10T15:36:13.671Z"
   },
   {
    "duration": 4,
    "start_time": "2022-10-10T15:36:35.942Z"
   },
   {
    "duration": 5,
    "start_time": "2022-10-10T15:36:42.059Z"
   },
   {
    "duration": 38,
    "start_time": "2022-10-10T15:37:33.059Z"
   },
   {
    "duration": 12,
    "start_time": "2022-10-10T15:42:24.879Z"
   },
   {
    "duration": 9,
    "start_time": "2022-10-10T15:43:34.663Z"
   },
   {
    "duration": 8,
    "start_time": "2022-10-10T15:44:56.945Z"
   },
   {
    "duration": 11,
    "start_time": "2022-10-10T15:48:38.266Z"
   },
   {
    "duration": 10,
    "start_time": "2022-10-10T15:49:42.291Z"
   },
   {
    "duration": 10,
    "start_time": "2022-10-10T15:50:57.043Z"
   },
   {
    "duration": 14,
    "start_time": "2022-10-10T15:51:42.653Z"
   },
   {
    "duration": 11,
    "start_time": "2022-10-10T15:51:57.028Z"
   },
   {
    "duration": 52,
    "start_time": "2022-10-11T06:25:35.772Z"
   },
   {
    "duration": 1236,
    "start_time": "2022-10-11T06:25:45.019Z"
   },
   {
    "duration": 63,
    "start_time": "2022-10-11T06:25:46.257Z"
   },
   {
    "duration": 11,
    "start_time": "2022-10-11T06:25:46.322Z"
   },
   {
    "duration": 14,
    "start_time": "2022-10-11T06:25:46.334Z"
   },
   {
    "duration": 6,
    "start_time": "2022-10-11T06:25:46.350Z"
   },
   {
    "duration": 148,
    "start_time": "2022-10-11T06:25:46.358Z"
   },
   {
    "duration": 10,
    "start_time": "2022-10-11T06:25:46.508Z"
   },
   {
    "duration": 17,
    "start_time": "2022-10-11T06:25:46.519Z"
   },
   {
    "duration": 11,
    "start_time": "2022-10-11T06:25:46.537Z"
   },
   {
    "duration": 12,
    "start_time": "2022-10-11T06:25:46.550Z"
   },
   {
    "duration": 9,
    "start_time": "2022-10-11T06:25:46.564Z"
   },
   {
    "duration": 6,
    "start_time": "2022-10-11T06:25:46.574Z"
   },
   {
    "duration": 4,
    "start_time": "2022-10-11T06:25:46.582Z"
   },
   {
    "duration": 56,
    "start_time": "2022-10-11T06:25:46.589Z"
   },
   {
    "duration": 9,
    "start_time": "2022-10-11T06:25:46.647Z"
   },
   {
    "duration": 10,
    "start_time": "2022-10-11T06:25:46.658Z"
   },
   {
    "duration": 11,
    "start_time": "2022-10-11T06:25:46.669Z"
   },
   {
    "duration": 5,
    "start_time": "2022-10-11T06:25:46.682Z"
   },
   {
    "duration": 4,
    "start_time": "2022-10-11T06:25:46.688Z"
   },
   {
    "duration": 6,
    "start_time": "2022-10-11T06:25:46.694Z"
   },
   {
    "duration": 8,
    "start_time": "2022-10-11T06:25:46.701Z"
   },
   {
    "duration": 152,
    "start_time": "2022-10-11T06:25:46.710Z"
   },
   {
    "duration": 115,
    "start_time": "2022-10-11T06:25:46.864Z"
   },
   {
    "duration": 23,
    "start_time": "2022-10-11T06:25:46.981Z"
   },
   {
    "duration": 9,
    "start_time": "2022-10-11T06:25:47.006Z"
   },
   {
    "duration": 7,
    "start_time": "2022-10-11T06:25:47.017Z"
   },
   {
    "duration": 272,
    "start_time": "2022-10-11T06:25:47.025Z"
   },
   {
    "duration": 200,
    "start_time": "2022-10-11T06:25:47.300Z"
   },
   {
    "duration": 341,
    "start_time": "2022-10-11T06:25:47.501Z"
   },
   {
    "duration": 4,
    "start_time": "2022-10-11T06:25:47.844Z"
   },
   {
    "duration": 10,
    "start_time": "2022-10-11T06:25:47.850Z"
   },
   {
    "duration": 204,
    "start_time": "2022-10-11T06:25:47.862Z"
   },
   {
    "duration": 321,
    "start_time": "2022-10-11T06:25:48.068Z"
   },
   {
    "duration": 15,
    "start_time": "2022-10-11T06:25:48.391Z"
   },
   {
    "duration": 144,
    "start_time": "2022-10-11T06:25:48.408Z"
   },
   {
    "duration": 152,
    "start_time": "2022-10-11T06:25:48.554Z"
   },
   {
    "duration": 5,
    "start_time": "2022-10-11T06:25:48.707Z"
   },
   {
    "duration": 295,
    "start_time": "2022-10-11T06:25:48.713Z"
   },
   {
    "duration": 172,
    "start_time": "2022-10-11T06:25:49.010Z"
   },
   {
    "duration": 4,
    "start_time": "2022-10-11T06:25:49.184Z"
   },
   {
    "duration": 60,
    "start_time": "2022-10-11T06:25:49.200Z"
   },
   {
    "duration": 74,
    "start_time": "2022-10-11T06:25:49.262Z"
   },
   {
    "duration": 8,
    "start_time": "2022-10-11T06:25:49.338Z"
   },
   {
    "duration": 8,
    "start_time": "2022-10-11T06:25:49.347Z"
   },
   {
    "duration": 14,
    "start_time": "2022-10-11T06:25:49.356Z"
   },
   {
    "duration": 4,
    "start_time": "2022-10-11T06:25:49.372Z"
   },
   {
    "duration": 24,
    "start_time": "2022-10-11T06:25:49.378Z"
   },
   {
    "duration": 5,
    "start_time": "2022-10-11T06:25:49.404Z"
   },
   {
    "duration": 9,
    "start_time": "2022-10-11T06:25:49.410Z"
   },
   {
    "duration": 21,
    "start_time": "2022-10-11T06:25:49.420Z"
   },
   {
    "duration": 8,
    "start_time": "2022-10-11T06:25:49.442Z"
   },
   {
    "duration": 7,
    "start_time": "2022-10-11T06:25:49.452Z"
   },
   {
    "duration": 5,
    "start_time": "2022-10-11T06:25:49.460Z"
   },
   {
    "duration": 7,
    "start_time": "2022-10-11T06:25:49.466Z"
   },
   {
    "duration": 10,
    "start_time": "2022-10-11T06:25:49.474Z"
   },
   {
    "duration": 7,
    "start_time": "2022-10-11T06:25:49.485Z"
   },
   {
    "duration": 24,
    "start_time": "2022-10-11T06:25:49.494Z"
   },
   {
    "duration": 7,
    "start_time": "2022-10-11T06:25:49.520Z"
   },
   {
    "duration": 13,
    "start_time": "2022-10-11T06:25:49.528Z"
   },
   {
    "duration": 12,
    "start_time": "2022-10-11T06:26:05.860Z"
   },
   {
    "duration": 9,
    "start_time": "2022-10-11T06:26:13.116Z"
   },
   {
    "duration": 1104,
    "start_time": "2022-10-11T07:03:27.169Z"
   },
   {
    "duration": 28,
    "start_time": "2022-10-11T07:03:28.274Z"
   },
   {
    "duration": 10,
    "start_time": "2022-10-11T07:03:28.303Z"
   },
   {
    "duration": 12,
    "start_time": "2022-10-11T07:03:28.315Z"
   },
   {
    "duration": 8,
    "start_time": "2022-10-11T07:03:28.328Z"
   },
   {
    "duration": 43,
    "start_time": "2022-10-11T07:03:28.338Z"
   },
   {
    "duration": 9,
    "start_time": "2022-10-11T07:03:28.383Z"
   },
   {
    "duration": 10,
    "start_time": "2022-10-11T07:03:28.393Z"
   },
   {
    "duration": 8,
    "start_time": "2022-10-11T07:03:28.404Z"
   },
   {
    "duration": 18,
    "start_time": "2022-10-11T07:03:28.414Z"
   },
   {
    "duration": 8,
    "start_time": "2022-10-11T07:03:28.433Z"
   },
   {
    "duration": 7,
    "start_time": "2022-10-11T07:03:28.443Z"
   },
   {
    "duration": 16,
    "start_time": "2022-10-11T07:03:28.451Z"
   },
   {
    "duration": 20,
    "start_time": "2022-10-11T07:03:28.468Z"
   },
   {
    "duration": 8,
    "start_time": "2022-10-11T07:03:28.489Z"
   },
   {
    "duration": 11,
    "start_time": "2022-10-11T07:03:28.499Z"
   },
   {
    "duration": 8,
    "start_time": "2022-10-11T07:03:28.511Z"
   },
   {
    "duration": 8,
    "start_time": "2022-10-11T07:03:28.520Z"
   },
   {
    "duration": 7,
    "start_time": "2022-10-11T07:03:28.530Z"
   },
   {
    "duration": 9,
    "start_time": "2022-10-11T07:03:28.538Z"
   },
   {
    "duration": 12,
    "start_time": "2022-10-11T07:03:28.548Z"
   },
   {
    "duration": 155,
    "start_time": "2022-10-11T07:03:28.562Z"
   },
   {
    "duration": 113,
    "start_time": "2022-10-11T07:03:28.718Z"
   },
   {
    "duration": 11,
    "start_time": "2022-10-11T07:03:28.833Z"
   },
   {
    "duration": 14,
    "start_time": "2022-10-11T07:03:28.846Z"
   },
   {
    "duration": 10,
    "start_time": "2022-10-11T07:03:28.862Z"
   },
   {
    "duration": 252,
    "start_time": "2022-10-11T07:03:28.873Z"
   },
   {
    "duration": 193,
    "start_time": "2022-10-11T07:03:29.129Z"
   },
   {
    "duration": 286,
    "start_time": "2022-10-11T07:03:29.324Z"
   },
   {
    "duration": 3,
    "start_time": "2022-10-11T07:03:29.612Z"
   },
   {
    "duration": 18,
    "start_time": "2022-10-11T07:03:29.617Z"
   },
   {
    "duration": 203,
    "start_time": "2022-10-11T07:03:29.637Z"
   },
   {
    "duration": 275,
    "start_time": "2022-10-11T07:03:29.841Z"
   },
   {
    "duration": 11,
    "start_time": "2022-10-11T07:03:30.118Z"
   },
   {
    "duration": 164,
    "start_time": "2022-10-11T07:03:30.130Z"
   },
   {
    "duration": 142,
    "start_time": "2022-10-11T07:03:30.295Z"
   },
   {
    "duration": 5,
    "start_time": "2022-10-11T07:03:30.438Z"
   },
   {
    "duration": 320,
    "start_time": "2022-10-11T07:03:30.444Z"
   },
   {
    "duration": 171,
    "start_time": "2022-10-11T07:03:30.765Z"
   },
   {
    "duration": 4,
    "start_time": "2022-10-11T07:03:30.938Z"
   },
   {
    "duration": 87,
    "start_time": "2022-10-11T07:03:30.944Z"
   },
   {
    "duration": 87,
    "start_time": "2022-10-11T07:03:31.033Z"
   },
   {
    "duration": 10,
    "start_time": "2022-10-11T07:03:31.122Z"
   },
   {
    "duration": 12,
    "start_time": "2022-10-11T07:03:31.133Z"
   },
   {
    "duration": 22,
    "start_time": "2022-10-11T07:03:31.147Z"
   },
   {
    "duration": 16,
    "start_time": "2022-10-11T07:03:31.170Z"
   },
   {
    "duration": 35,
    "start_time": "2022-10-11T07:03:31.187Z"
   },
   {
    "duration": 18,
    "start_time": "2022-10-11T07:03:31.223Z"
   },
   {
    "duration": 24,
    "start_time": "2022-10-11T07:03:31.243Z"
   },
   {
    "duration": 11,
    "start_time": "2022-10-11T07:03:31.269Z"
   },
   {
    "duration": 9,
    "start_time": "2022-10-11T07:03:31.281Z"
   },
   {
    "duration": 8,
    "start_time": "2022-10-11T07:03:31.291Z"
   },
   {
    "duration": 6,
    "start_time": "2022-10-11T07:03:31.301Z"
   },
   {
    "duration": 12,
    "start_time": "2022-10-11T07:03:31.308Z"
   },
   {
    "duration": 27,
    "start_time": "2022-10-11T07:03:31.322Z"
   },
   {
    "duration": 22,
    "start_time": "2022-10-11T07:03:31.351Z"
   },
   {
    "duration": 26,
    "start_time": "2022-10-11T07:03:31.375Z"
   },
   {
    "duration": 7,
    "start_time": "2022-10-11T07:03:31.402Z"
   },
   {
    "duration": 20,
    "start_time": "2022-10-11T07:03:31.410Z"
   },
   {
    "duration": 1148,
    "start_time": "2022-10-11T07:03:42.610Z"
   },
   {
    "duration": 29,
    "start_time": "2022-10-11T07:03:43.760Z"
   },
   {
    "duration": 11,
    "start_time": "2022-10-11T07:03:43.790Z"
   },
   {
    "duration": 13,
    "start_time": "2022-10-11T07:03:43.802Z"
   },
   {
    "duration": 9,
    "start_time": "2022-10-11T07:03:43.816Z"
   },
   {
    "duration": 42,
    "start_time": "2022-10-11T07:03:43.827Z"
   },
   {
    "duration": 9,
    "start_time": "2022-10-11T07:03:43.871Z"
   },
   {
    "duration": 10,
    "start_time": "2022-10-11T07:03:43.882Z"
   },
   {
    "duration": 6,
    "start_time": "2022-10-11T07:03:43.893Z"
   },
   {
    "duration": 11,
    "start_time": "2022-10-11T07:03:43.902Z"
   },
   {
    "duration": 15,
    "start_time": "2022-10-11T07:03:43.914Z"
   },
   {
    "duration": 9,
    "start_time": "2022-10-11T07:03:43.930Z"
   },
   {
    "duration": 5,
    "start_time": "2022-10-11T07:03:43.940Z"
   },
   {
    "duration": 17,
    "start_time": "2022-10-11T07:03:43.947Z"
   },
   {
    "duration": 9,
    "start_time": "2022-10-11T07:03:43.965Z"
   },
   {
    "duration": 11,
    "start_time": "2022-10-11T07:03:43.976Z"
   },
   {
    "duration": 6,
    "start_time": "2022-10-11T07:03:43.988Z"
   },
   {
    "duration": 8,
    "start_time": "2022-10-11T07:03:43.996Z"
   },
   {
    "duration": 7,
    "start_time": "2022-10-11T07:03:44.005Z"
   },
   {
    "duration": 10,
    "start_time": "2022-10-11T07:03:44.014Z"
   },
   {
    "duration": 10,
    "start_time": "2022-10-11T07:03:44.026Z"
   },
   {
    "duration": 178,
    "start_time": "2022-10-11T07:03:44.037Z"
   },
   {
    "duration": 118,
    "start_time": "2022-10-11T07:03:44.218Z"
   },
   {
    "duration": 13,
    "start_time": "2022-10-11T07:03:44.337Z"
   },
   {
    "duration": 6,
    "start_time": "2022-10-11T07:03:44.352Z"
   },
   {
    "duration": 6,
    "start_time": "2022-10-11T07:03:44.359Z"
   },
   {
    "duration": 330,
    "start_time": "2022-10-11T07:03:44.367Z"
   },
   {
    "duration": 213,
    "start_time": "2022-10-11T07:03:44.702Z"
   },
   {
    "duration": 287,
    "start_time": "2022-10-11T07:03:44.917Z"
   },
   {
    "duration": 3,
    "start_time": "2022-10-11T07:03:45.206Z"
   },
   {
    "duration": 9,
    "start_time": "2022-10-11T07:03:45.211Z"
   },
   {
    "duration": 227,
    "start_time": "2022-10-11T07:03:45.221Z"
   },
   {
    "duration": 279,
    "start_time": "2022-10-11T07:03:45.450Z"
   },
   {
    "duration": 11,
    "start_time": "2022-10-11T07:03:45.731Z"
   },
   {
    "duration": 150,
    "start_time": "2022-10-11T07:03:45.743Z"
   },
   {
    "duration": 169,
    "start_time": "2022-10-11T07:03:45.894Z"
   },
   {
    "duration": 6,
    "start_time": "2022-10-11T07:03:46.064Z"
   },
   {
    "duration": 297,
    "start_time": "2022-10-11T07:03:46.071Z"
   },
   {
    "duration": 165,
    "start_time": "2022-10-11T07:03:46.369Z"
   },
   {
    "duration": 4,
    "start_time": "2022-10-11T07:03:46.536Z"
   },
   {
    "duration": 77,
    "start_time": "2022-10-11T07:03:46.542Z"
   },
   {
    "duration": 98,
    "start_time": "2022-10-11T07:03:46.621Z"
   },
   {
    "duration": 9,
    "start_time": "2022-10-11T07:03:46.721Z"
   },
   {
    "duration": 13,
    "start_time": "2022-10-11T07:03:46.731Z"
   },
   {
    "duration": 15,
    "start_time": "2022-10-11T07:03:46.746Z"
   },
   {
    "duration": 8,
    "start_time": "2022-10-11T07:03:46.763Z"
   },
   {
    "duration": 22,
    "start_time": "2022-10-11T07:03:46.772Z"
   },
   {
    "duration": 5,
    "start_time": "2022-10-11T07:03:46.796Z"
   },
   {
    "duration": 24,
    "start_time": "2022-10-11T07:03:46.803Z"
   },
   {
    "duration": 5,
    "start_time": "2022-10-11T07:03:46.829Z"
   },
   {
    "duration": 9,
    "start_time": "2022-10-11T07:03:46.835Z"
   },
   {
    "duration": 9,
    "start_time": "2022-10-11T07:03:46.846Z"
   },
   {
    "duration": 7,
    "start_time": "2022-10-11T07:03:46.856Z"
   },
   {
    "duration": 7,
    "start_time": "2022-10-11T07:03:46.864Z"
   },
   {
    "duration": 8,
    "start_time": "2022-10-11T07:03:46.872Z"
   },
   {
    "duration": 6,
    "start_time": "2022-10-11T07:03:46.881Z"
   },
   {
    "duration": 26,
    "start_time": "2022-10-11T07:03:46.888Z"
   },
   {
    "duration": 6,
    "start_time": "2022-10-11T07:03:46.916Z"
   },
   {
    "duration": 53,
    "start_time": "2022-10-11T07:03:46.924Z"
   },
   {
    "duration": 1038,
    "start_time": "2022-10-11T09:12:30.255Z"
   },
   {
    "duration": 64,
    "start_time": "2022-10-11T09:12:31.295Z"
   },
   {
    "duration": 12,
    "start_time": "2022-10-11T09:12:31.361Z"
   },
   {
    "duration": 28,
    "start_time": "2022-10-11T09:12:31.375Z"
   },
   {
    "duration": 8,
    "start_time": "2022-10-11T09:12:31.405Z"
   },
   {
    "duration": 68,
    "start_time": "2022-10-11T09:12:31.415Z"
   },
   {
    "duration": 9,
    "start_time": "2022-10-11T09:12:31.485Z"
   },
   {
    "duration": 13,
    "start_time": "2022-10-11T09:12:31.496Z"
   },
   {
    "duration": 9,
    "start_time": "2022-10-11T09:12:31.511Z"
   },
   {
    "duration": 21,
    "start_time": "2022-10-11T09:12:31.521Z"
   },
   {
    "duration": 10,
    "start_time": "2022-10-11T09:12:31.543Z"
   },
   {
    "duration": 10,
    "start_time": "2022-10-11T09:12:31.555Z"
   },
   {
    "duration": 5,
    "start_time": "2022-10-11T09:12:31.567Z"
   },
   {
    "duration": 60,
    "start_time": "2022-10-11T09:12:31.574Z"
   },
   {
    "duration": 9,
    "start_time": "2022-10-11T09:12:31.636Z"
   },
   {
    "duration": 21,
    "start_time": "2022-10-11T09:12:31.646Z"
   },
   {
    "duration": 7,
    "start_time": "2022-10-11T09:12:31.668Z"
   },
   {
    "duration": 7,
    "start_time": "2022-10-11T09:12:31.676Z"
   },
   {
    "duration": 12,
    "start_time": "2022-10-11T09:12:31.685Z"
   },
   {
    "duration": 8,
    "start_time": "2022-10-11T09:12:31.698Z"
   },
   {
    "duration": 8,
    "start_time": "2022-10-11T09:12:31.707Z"
   },
   {
    "duration": 150,
    "start_time": "2022-10-11T09:12:31.716Z"
   },
   {
    "duration": 110,
    "start_time": "2022-10-11T09:12:31.867Z"
   },
   {
    "duration": 11,
    "start_time": "2022-10-11T09:12:31.979Z"
   },
   {
    "duration": 9,
    "start_time": "2022-10-11T09:12:31.992Z"
   },
   {
    "duration": 7,
    "start_time": "2022-10-11T09:12:32.003Z"
   },
   {
    "duration": 273,
    "start_time": "2022-10-11T09:12:32.022Z"
   },
   {
    "duration": 183,
    "start_time": "2022-10-11T09:12:32.297Z"
   },
   {
    "duration": 312,
    "start_time": "2022-10-11T09:12:32.482Z"
   },
   {
    "duration": 4,
    "start_time": "2022-10-11T09:12:32.795Z"
   },
   {
    "duration": 30,
    "start_time": "2022-10-11T09:12:32.800Z"
   },
   {
    "duration": 213,
    "start_time": "2022-10-11T09:12:32.832Z"
   },
   {
    "duration": 279,
    "start_time": "2022-10-11T09:12:33.047Z"
   },
   {
    "duration": 11,
    "start_time": "2022-10-11T09:12:33.328Z"
   },
   {
    "duration": 166,
    "start_time": "2022-10-11T09:12:33.340Z"
   },
   {
    "duration": 148,
    "start_time": "2022-10-11T09:12:33.508Z"
   },
   {
    "duration": 5,
    "start_time": "2022-10-11T09:12:33.657Z"
   },
   {
    "duration": 289,
    "start_time": "2022-10-11T09:12:33.664Z"
   },
   {
    "duration": 159,
    "start_time": "2022-10-11T09:12:33.955Z"
   },
   {
    "duration": 4,
    "start_time": "2022-10-11T09:12:34.122Z"
   },
   {
    "duration": 62,
    "start_time": "2022-10-11T09:12:34.130Z"
   },
   {
    "duration": 76,
    "start_time": "2022-10-11T09:12:34.193Z"
   },
   {
    "duration": 9,
    "start_time": "2022-10-11T09:12:34.271Z"
   },
   {
    "duration": 8,
    "start_time": "2022-10-11T09:12:34.281Z"
   },
   {
    "duration": 10,
    "start_time": "2022-10-11T09:12:34.290Z"
   },
   {
    "duration": 10,
    "start_time": "2022-10-11T09:12:34.301Z"
   },
   {
    "duration": 29,
    "start_time": "2022-10-11T09:12:34.313Z"
   },
   {
    "duration": 14,
    "start_time": "2022-10-11T09:12:34.343Z"
   },
   {
    "duration": 7,
    "start_time": "2022-10-11T09:12:34.359Z"
   },
   {
    "duration": 5,
    "start_time": "2022-10-11T09:12:34.367Z"
   },
   {
    "duration": 8,
    "start_time": "2022-10-11T09:12:34.373Z"
   },
   {
    "duration": 6,
    "start_time": "2022-10-11T09:12:34.382Z"
   },
   {
    "duration": 5,
    "start_time": "2022-10-11T09:12:34.389Z"
   },
   {
    "duration": 7,
    "start_time": "2022-10-11T09:12:34.396Z"
   },
   {
    "duration": 18,
    "start_time": "2022-10-11T09:12:34.404Z"
   },
   {
    "duration": 4,
    "start_time": "2022-10-11T09:12:34.423Z"
   },
   {
    "duration": 29,
    "start_time": "2022-10-11T09:12:34.428Z"
   },
   {
    "duration": 9,
    "start_time": "2022-10-11T09:12:34.458Z"
   },
   {
    "duration": 13,
    "start_time": "2022-10-11T09:12:34.469Z"
   },
   {
    "duration": 42,
    "start_time": "2022-10-11T09:28:44.899Z"
   },
   {
    "duration": 1146,
    "start_time": "2022-10-11T09:28:49.259Z"
   },
   {
    "duration": 67,
    "start_time": "2022-10-11T09:28:50.407Z"
   },
   {
    "duration": 10,
    "start_time": "2022-10-11T09:28:50.476Z"
   },
   {
    "duration": 19,
    "start_time": "2022-10-11T09:28:50.488Z"
   },
   {
    "duration": 8,
    "start_time": "2022-10-11T09:28:50.508Z"
   },
   {
    "duration": 73,
    "start_time": "2022-10-11T09:28:50.517Z"
   },
   {
    "duration": 10,
    "start_time": "2022-10-11T09:28:50.591Z"
   },
   {
    "duration": 23,
    "start_time": "2022-10-11T09:28:50.603Z"
   },
   {
    "duration": 12,
    "start_time": "2022-10-11T09:28:50.628Z"
   },
   {
    "duration": 23,
    "start_time": "2022-10-11T09:28:50.642Z"
   },
   {
    "duration": 18,
    "start_time": "2022-10-11T09:28:50.666Z"
   },
   {
    "duration": 11,
    "start_time": "2022-10-11T09:28:50.685Z"
   },
   {
    "duration": 4,
    "start_time": "2022-10-11T09:28:50.697Z"
   },
   {
    "duration": 59,
    "start_time": "2022-10-11T09:28:50.703Z"
   },
   {
    "duration": 10,
    "start_time": "2022-10-11T09:28:50.764Z"
   },
   {
    "duration": 11,
    "start_time": "2022-10-11T09:28:50.775Z"
   },
   {
    "duration": 9,
    "start_time": "2022-10-11T09:28:50.787Z"
   },
   {
    "duration": 8,
    "start_time": "2022-10-11T09:28:50.797Z"
   },
   {
    "duration": 6,
    "start_time": "2022-10-11T09:28:50.806Z"
   },
   {
    "duration": 7,
    "start_time": "2022-10-11T09:28:50.813Z"
   },
   {
    "duration": 11,
    "start_time": "2022-10-11T09:28:50.821Z"
   },
   {
    "duration": 165,
    "start_time": "2022-10-11T09:28:50.834Z"
   },
   {
    "duration": 142,
    "start_time": "2022-10-11T09:28:51.000Z"
   },
   {
    "duration": 23,
    "start_time": "2022-10-11T09:28:51.144Z"
   },
   {
    "duration": 11,
    "start_time": "2022-10-11T09:28:51.169Z"
   },
   {
    "duration": 12,
    "start_time": "2022-10-11T09:28:51.181Z"
   },
   {
    "duration": 261,
    "start_time": "2022-10-11T09:28:51.194Z"
   },
   {
    "duration": 204,
    "start_time": "2022-10-11T09:28:51.458Z"
   },
   {
    "duration": 320,
    "start_time": "2022-10-11T09:28:51.664Z"
   },
   {
    "duration": 4,
    "start_time": "2022-10-11T09:28:51.986Z"
   },
   {
    "duration": 8,
    "start_time": "2022-10-11T09:28:51.991Z"
   },
   {
    "duration": 214,
    "start_time": "2022-10-11T09:28:52.000Z"
   },
   {
    "duration": 301,
    "start_time": "2022-10-11T09:28:52.215Z"
   },
   {
    "duration": 10,
    "start_time": "2022-10-11T09:28:52.522Z"
   },
   {
    "duration": 142,
    "start_time": "2022-10-11T09:28:52.533Z"
   },
   {
    "duration": 153,
    "start_time": "2022-10-11T09:28:52.676Z"
   },
   {
    "duration": 5,
    "start_time": "2022-10-11T09:28:52.830Z"
   },
   {
    "duration": 292,
    "start_time": "2022-10-11T09:28:52.836Z"
   },
   {
    "duration": 156,
    "start_time": "2022-10-11T09:28:53.130Z"
   },
   {
    "duration": 4,
    "start_time": "2022-10-11T09:28:53.288Z"
   },
   {
    "duration": 77,
    "start_time": "2022-10-11T09:28:53.293Z"
   },
   {
    "duration": 78,
    "start_time": "2022-10-11T09:28:53.372Z"
   },
   {
    "duration": 8,
    "start_time": "2022-10-11T09:28:53.452Z"
   },
   {
    "duration": 4,
    "start_time": "2022-10-11T09:28:53.462Z"
   },
   {
    "duration": 26,
    "start_time": "2022-10-11T09:28:53.467Z"
   },
   {
    "duration": 10,
    "start_time": "2022-10-11T09:28:53.495Z"
   },
   {
    "duration": 20,
    "start_time": "2022-10-11T09:28:53.506Z"
   },
   {
    "duration": 6,
    "start_time": "2022-10-11T09:28:53.527Z"
   },
   {
    "duration": 8,
    "start_time": "2022-10-11T09:28:53.534Z"
   },
   {
    "duration": 4,
    "start_time": "2022-10-11T09:28:53.544Z"
   },
   {
    "duration": 7,
    "start_time": "2022-10-11T09:28:53.550Z"
   },
   {
    "duration": 5,
    "start_time": "2022-10-11T09:28:53.558Z"
   },
   {
    "duration": 13,
    "start_time": "2022-10-11T09:28:53.565Z"
   },
   {
    "duration": 7,
    "start_time": "2022-10-11T09:28:53.579Z"
   },
   {
    "duration": 9,
    "start_time": "2022-10-11T09:28:53.588Z"
   },
   {
    "duration": 9,
    "start_time": "2022-10-11T09:28:53.598Z"
   },
   {
    "duration": 18,
    "start_time": "2022-10-11T09:28:53.621Z"
   },
   {
    "duration": 7,
    "start_time": "2022-10-11T09:28:53.640Z"
   },
   {
    "duration": 9,
    "start_time": "2022-10-11T09:28:53.648Z"
   },
   {
    "duration": 197,
    "start_time": "2022-10-11T09:30:03.272Z"
   },
   {
    "duration": 306,
    "start_time": "2022-10-11T09:30:12.200Z"
   },
   {
    "duration": 217,
    "start_time": "2022-10-11T09:30:18.704Z"
   },
   {
    "duration": 283,
    "start_time": "2022-10-11T09:30:26.721Z"
   },
   {
    "duration": 130,
    "start_time": "2022-10-11T09:30:35.384Z"
   },
   {
    "duration": 137,
    "start_time": "2022-10-11T09:30:39.032Z"
   },
   {
    "duration": 210,
    "start_time": "2022-10-11T09:30:51.984Z"
   },
   {
    "duration": 248,
    "start_time": "2022-10-11T09:31:03.848Z"
   },
   {
    "duration": 1488,
    "start_time": "2022-10-11T10:12:37.540Z"
   },
   {
    "duration": 12,
    "start_time": "2022-10-11T10:36:48.328Z"
   },
   {
    "duration": 14,
    "start_time": "2022-10-11T10:37:28.185Z"
   },
   {
    "duration": 16,
    "start_time": "2022-10-11T10:37:37.336Z"
   },
   {
    "duration": 13,
    "start_time": "2022-10-11T10:37:44.664Z"
   },
   {
    "duration": 5,
    "start_time": "2022-10-11T10:40:27.819Z"
   },
   {
    "duration": 6,
    "start_time": "2022-10-11T10:40:46.003Z"
   },
   {
    "duration": 13,
    "start_time": "2022-10-11T10:41:41.836Z"
   },
   {
    "duration": 444,
    "start_time": "2022-10-11T10:42:39.107Z"
   },
   {
    "duration": 2563,
    "start_time": "2022-10-11T10:42:45.171Z"
   },
   {
    "duration": 6,
    "start_time": "2022-10-11T10:42:56.869Z"
   },
   {
    "duration": 8,
    "start_time": "2022-10-11T10:44:40.557Z"
   },
   {
    "duration": 8,
    "start_time": "2022-10-11T10:44:56.844Z"
   },
   {
    "duration": 8,
    "start_time": "2022-10-11T10:45:05.844Z"
   },
   {
    "duration": 79,
    "start_time": "2022-10-11T10:45:28.629Z"
   },
   {
    "duration": 7,
    "start_time": "2022-10-11T10:45:33.100Z"
   },
   {
    "duration": 8,
    "start_time": "2022-10-11T10:46:39.477Z"
   },
   {
    "duration": 9,
    "start_time": "2022-10-11T10:47:39.911Z"
   },
   {
    "duration": 12,
    "start_time": "2022-10-11T10:48:36.128Z"
   },
   {
    "duration": 12,
    "start_time": "2022-10-11T10:48:48.519Z"
   },
   {
    "duration": 10,
    "start_time": "2022-10-11T10:48:55.934Z"
   },
   {
    "duration": 10,
    "start_time": "2022-10-11T10:49:11.456Z"
   },
   {
    "duration": 11,
    "start_time": "2022-10-11T10:49:19.631Z"
   },
   {
    "duration": 10,
    "start_time": "2022-10-11T10:49:28.670Z"
   },
   {
    "duration": 11,
    "start_time": "2022-10-11T10:49:34.767Z"
   },
   {
    "duration": 153,
    "start_time": "2022-10-11T10:57:36.700Z"
   },
   {
    "duration": 11,
    "start_time": "2022-10-11T10:57:43.147Z"
   },
   {
    "duration": 4,
    "start_time": "2022-10-11T10:57:57.412Z"
   },
   {
    "duration": 13,
    "start_time": "2022-10-11T10:58:04.413Z"
   },
   {
    "duration": 13,
    "start_time": "2022-10-11T10:58:21.972Z"
   },
   {
    "duration": 12,
    "start_time": "2022-10-11T10:58:25.315Z"
   },
   {
    "duration": 7,
    "start_time": "2022-10-11T10:58:30.715Z"
   },
   {
    "duration": 10,
    "start_time": "2022-10-11T10:58:37.156Z"
   },
   {
    "duration": 4,
    "start_time": "2022-10-11T10:59:32.908Z"
   },
   {
    "duration": 5,
    "start_time": "2022-10-11T10:59:44.334Z"
   },
   {
    "duration": 9,
    "start_time": "2022-10-11T11:00:06.389Z"
   },
   {
    "duration": 6,
    "start_time": "2022-10-11T11:00:19.910Z"
   },
   {
    "duration": 5,
    "start_time": "2022-10-11T11:00:42.021Z"
   },
   {
    "duration": 4,
    "start_time": "2022-10-11T11:01:13.541Z"
   },
   {
    "duration": 12,
    "start_time": "2022-10-11T11:01:39.774Z"
   },
   {
    "duration": 4,
    "start_time": "2022-10-11T11:01:45.326Z"
   },
   {
    "duration": 5,
    "start_time": "2022-10-11T11:01:48.709Z"
   },
   {
    "duration": 24,
    "start_time": "2022-10-11T11:02:29.096Z"
   },
   {
    "duration": 5,
    "start_time": "2022-10-11T11:03:21.232Z"
   },
   {
    "duration": 26,
    "start_time": "2022-10-11T11:03:35.471Z"
   },
   {
    "duration": 39,
    "start_time": "2022-10-11T11:03:44.474Z"
   },
   {
    "duration": 106,
    "start_time": "2022-10-11T11:42:16.784Z"
   },
   {
    "duration": 5,
    "start_time": "2022-10-11T11:42:21.070Z"
   },
   {
    "duration": 5,
    "start_time": "2022-10-11T11:48:30.707Z"
   },
   {
    "duration": 1391,
    "start_time": "2022-10-11T11:50:06.795Z"
   },
   {
    "duration": 324,
    "start_time": "2022-10-11T11:50:41.389Z"
   },
   {
    "duration": 14,
    "start_time": "2022-10-11T11:51:35.572Z"
   },
   {
    "duration": 8,
    "start_time": "2022-10-11T11:51:40.405Z"
   },
   {
    "duration": 5,
    "start_time": "2022-10-11T11:51:51.357Z"
   },
   {
    "duration": 6,
    "start_time": "2022-10-11T11:52:03.982Z"
   },
   {
    "duration": 4,
    "start_time": "2022-10-11T11:52:08.853Z"
   },
   {
    "duration": 4,
    "start_time": "2022-10-11T11:52:26.045Z"
   },
   {
    "duration": 1100,
    "start_time": "2022-10-11T11:56:43.189Z"
   },
   {
    "duration": 25,
    "start_time": "2022-10-11T11:56:44.290Z"
   },
   {
    "duration": 10,
    "start_time": "2022-10-11T11:56:44.317Z"
   },
   {
    "duration": 21,
    "start_time": "2022-10-11T11:56:44.329Z"
   },
   {
    "duration": 8,
    "start_time": "2022-10-11T11:56:44.351Z"
   },
   {
    "duration": 37,
    "start_time": "2022-10-11T11:56:44.360Z"
   },
   {
    "duration": 9,
    "start_time": "2022-10-11T11:56:44.399Z"
   },
   {
    "duration": 10,
    "start_time": "2022-10-11T11:56:44.409Z"
   },
   {
    "duration": 6,
    "start_time": "2022-10-11T11:56:44.420Z"
   },
   {
    "duration": 13,
    "start_time": "2022-10-11T11:56:44.429Z"
   },
   {
    "duration": 8,
    "start_time": "2022-10-11T11:56:44.443Z"
   },
   {
    "duration": 6,
    "start_time": "2022-10-11T11:56:44.453Z"
   },
   {
    "duration": 4,
    "start_time": "2022-10-11T11:56:44.461Z"
   },
   {
    "duration": 16,
    "start_time": "2022-10-11T11:56:44.466Z"
   },
   {
    "duration": 111,
    "start_time": "2022-10-11T11:56:44.483Z"
   },
   {
    "duration": 0,
    "start_time": "2022-10-11T11:56:44.596Z"
   },
   {
    "duration": 0,
    "start_time": "2022-10-11T11:56:44.597Z"
   },
   {
    "duration": 0,
    "start_time": "2022-10-11T11:56:44.598Z"
   },
   {
    "duration": 0,
    "start_time": "2022-10-11T11:56:44.599Z"
   },
   {
    "duration": 0,
    "start_time": "2022-10-11T11:56:44.600Z"
   },
   {
    "duration": 0,
    "start_time": "2022-10-11T11:56:44.601Z"
   },
   {
    "duration": 0,
    "start_time": "2022-10-11T11:56:44.603Z"
   },
   {
    "duration": 0,
    "start_time": "2022-10-11T11:56:44.604Z"
   },
   {
    "duration": 0,
    "start_time": "2022-10-11T11:56:44.605Z"
   },
   {
    "duration": 0,
    "start_time": "2022-10-11T11:56:44.621Z"
   },
   {
    "duration": 0,
    "start_time": "2022-10-11T11:56:44.622Z"
   },
   {
    "duration": 0,
    "start_time": "2022-10-11T11:56:44.624Z"
   },
   {
    "duration": 0,
    "start_time": "2022-10-11T11:56:44.625Z"
   },
   {
    "duration": 0,
    "start_time": "2022-10-11T11:56:44.626Z"
   },
   {
    "duration": 0,
    "start_time": "2022-10-11T11:56:44.628Z"
   },
   {
    "duration": 0,
    "start_time": "2022-10-11T11:56:44.629Z"
   },
   {
    "duration": 0,
    "start_time": "2022-10-11T11:56:44.630Z"
   },
   {
    "duration": 0,
    "start_time": "2022-10-11T11:56:44.632Z"
   },
   {
    "duration": 0,
    "start_time": "2022-10-11T11:56:44.633Z"
   },
   {
    "duration": 0,
    "start_time": "2022-10-11T11:56:44.634Z"
   },
   {
    "duration": 0,
    "start_time": "2022-10-11T11:56:44.636Z"
   },
   {
    "duration": 0,
    "start_time": "2022-10-11T11:56:44.637Z"
   },
   {
    "duration": 0,
    "start_time": "2022-10-11T11:56:44.638Z"
   },
   {
    "duration": 0,
    "start_time": "2022-10-11T11:56:44.640Z"
   },
   {
    "duration": 0,
    "start_time": "2022-10-11T11:56:44.641Z"
   },
   {
    "duration": 0,
    "start_time": "2022-10-11T11:56:44.642Z"
   },
   {
    "duration": 0,
    "start_time": "2022-10-11T11:56:44.643Z"
   },
   {
    "duration": 0,
    "start_time": "2022-10-11T11:56:44.645Z"
   },
   {
    "duration": 0,
    "start_time": "2022-10-11T11:56:44.646Z"
   },
   {
    "duration": 0,
    "start_time": "2022-10-11T11:56:44.647Z"
   },
   {
    "duration": 0,
    "start_time": "2022-10-11T11:56:44.649Z"
   },
   {
    "duration": 1,
    "start_time": "2022-10-11T11:56:44.649Z"
   },
   {
    "duration": 0,
    "start_time": "2022-10-11T11:56:44.651Z"
   },
   {
    "duration": 0,
    "start_time": "2022-10-11T11:56:44.652Z"
   },
   {
    "duration": 0,
    "start_time": "2022-10-11T11:56:44.653Z"
   },
   {
    "duration": 0,
    "start_time": "2022-10-11T11:56:44.655Z"
   },
   {
    "duration": 0,
    "start_time": "2022-10-11T11:56:44.656Z"
   },
   {
    "duration": 0,
    "start_time": "2022-10-11T11:56:44.657Z"
   },
   {
    "duration": 0,
    "start_time": "2022-10-11T11:56:44.657Z"
   },
   {
    "duration": 0,
    "start_time": "2022-10-11T11:56:44.658Z"
   },
   {
    "duration": 0,
    "start_time": "2022-10-11T11:56:44.659Z"
   },
   {
    "duration": 0,
    "start_time": "2022-10-11T11:56:44.660Z"
   },
   {
    "duration": 0,
    "start_time": "2022-10-11T11:56:44.722Z"
   },
   {
    "duration": 0,
    "start_time": "2022-10-11T11:56:44.723Z"
   },
   {
    "duration": 0,
    "start_time": "2022-10-11T11:56:44.724Z"
   },
   {
    "duration": 0,
    "start_time": "2022-10-11T11:56:44.725Z"
   },
   {
    "duration": 0,
    "start_time": "2022-10-11T11:56:44.726Z"
   },
   {
    "duration": 22,
    "start_time": "2022-10-11T11:59:00.837Z"
   },
   {
    "duration": 1084,
    "start_time": "2022-10-11T11:59:08.138Z"
   },
   {
    "duration": 25,
    "start_time": "2022-10-11T11:59:09.224Z"
   },
   {
    "duration": 10,
    "start_time": "2022-10-11T11:59:09.250Z"
   },
   {
    "duration": 11,
    "start_time": "2022-10-11T11:59:09.262Z"
   },
   {
    "duration": 8,
    "start_time": "2022-10-11T11:59:09.275Z"
   },
   {
    "duration": 40,
    "start_time": "2022-10-11T11:59:09.285Z"
   },
   {
    "duration": 10,
    "start_time": "2022-10-11T11:59:09.326Z"
   },
   {
    "duration": 10,
    "start_time": "2022-10-11T11:59:09.338Z"
   },
   {
    "duration": 7,
    "start_time": "2022-10-11T11:59:09.349Z"
   },
   {
    "duration": 13,
    "start_time": "2022-10-11T11:59:09.358Z"
   },
   {
    "duration": 8,
    "start_time": "2022-10-11T11:59:09.372Z"
   },
   {
    "duration": 7,
    "start_time": "2022-10-11T11:59:09.381Z"
   },
   {
    "duration": 4,
    "start_time": "2022-10-11T11:59:09.389Z"
   },
   {
    "duration": 33,
    "start_time": "2022-10-11T11:59:09.395Z"
   },
   {
    "duration": 15,
    "start_time": "2022-10-11T11:59:09.430Z"
   },
   {
    "duration": 3,
    "start_time": "2022-10-11T11:59:09.447Z"
   },
   {
    "duration": 16,
    "start_time": "2022-10-11T11:59:09.452Z"
   },
   {
    "duration": 11,
    "start_time": "2022-10-11T11:59:09.469Z"
   },
   {
    "duration": 7,
    "start_time": "2022-10-11T11:59:09.482Z"
   },
   {
    "duration": 7,
    "start_time": "2022-10-11T11:59:09.490Z"
   },
   {
    "duration": 24,
    "start_time": "2022-10-11T11:59:09.498Z"
   },
   {
    "duration": 6,
    "start_time": "2022-10-11T11:59:09.524Z"
   },
   {
    "duration": 8,
    "start_time": "2022-10-11T11:59:09.531Z"
   },
   {
    "duration": 7,
    "start_time": "2022-10-11T11:59:09.540Z"
   },
   {
    "duration": 154,
    "start_time": "2022-10-11T11:59:09.548Z"
   },
   {
    "duration": 119,
    "start_time": "2022-10-11T11:59:09.704Z"
   },
   {
    "duration": 13,
    "start_time": "2022-10-11T11:59:09.825Z"
   },
   {
    "duration": 4,
    "start_time": "2022-10-11T11:59:09.841Z"
   },
   {
    "duration": 6,
    "start_time": "2022-10-11T11:59:09.847Z"
   },
   {
    "duration": 254,
    "start_time": "2022-10-11T11:59:09.855Z"
   },
   {
    "duration": 184,
    "start_time": "2022-10-11T11:59:10.111Z"
   },
   {
    "duration": 303,
    "start_time": "2022-10-11T11:59:10.296Z"
   },
   {
    "duration": 5,
    "start_time": "2022-10-11T11:59:10.600Z"
   },
   {
    "duration": 16,
    "start_time": "2022-10-11T11:59:10.606Z"
   },
   {
    "duration": 188,
    "start_time": "2022-10-11T11:59:10.623Z"
   },
   {
    "duration": 323,
    "start_time": "2022-10-11T11:59:10.812Z"
   },
   {
    "duration": 10,
    "start_time": "2022-10-11T11:59:11.137Z"
   },
   {
    "duration": 159,
    "start_time": "2022-10-11T11:59:11.149Z"
   },
   {
    "duration": 155,
    "start_time": "2022-10-11T11:59:11.310Z"
   },
   {
    "duration": 4,
    "start_time": "2022-10-11T11:59:11.467Z"
   },
   {
    "duration": 287,
    "start_time": "2022-10-11T11:59:11.473Z"
   },
   {
    "duration": 167,
    "start_time": "2022-10-11T11:59:11.762Z"
   },
   {
    "duration": 5,
    "start_time": "2022-10-11T11:59:11.931Z"
   },
   {
    "duration": 62,
    "start_time": "2022-10-11T11:59:11.937Z"
   },
   {
    "duration": 89,
    "start_time": "2022-10-11T11:59:12.001Z"
   },
   {
    "duration": 9,
    "start_time": "2022-10-11T11:59:12.093Z"
   },
   {
    "duration": 19,
    "start_time": "2022-10-11T11:59:12.104Z"
   },
   {
    "duration": 8,
    "start_time": "2022-10-11T11:59:12.125Z"
   },
   {
    "duration": 8,
    "start_time": "2022-10-11T11:59:12.135Z"
   },
   {
    "duration": 28,
    "start_time": "2022-10-11T11:59:12.145Z"
   },
   {
    "duration": 6,
    "start_time": "2022-10-11T11:59:12.175Z"
   },
   {
    "duration": 21,
    "start_time": "2022-10-11T11:59:12.183Z"
   },
   {
    "duration": 12,
    "start_time": "2022-10-11T11:59:12.206Z"
   },
   {
    "duration": 15,
    "start_time": "2022-10-11T11:59:12.219Z"
   },
   {
    "duration": 14,
    "start_time": "2022-10-11T11:59:12.235Z"
   },
   {
    "duration": 18,
    "start_time": "2022-10-11T11:59:12.250Z"
   },
   {
    "duration": 22,
    "start_time": "2022-10-11T11:59:12.270Z"
   },
   {
    "duration": 11,
    "start_time": "2022-10-11T11:59:12.294Z"
   },
   {
    "duration": 14,
    "start_time": "2022-10-11T11:59:12.306Z"
   },
   {
    "duration": 22,
    "start_time": "2022-10-11T11:59:12.323Z"
   },
   {
    "duration": 7,
    "start_time": "2022-10-11T11:59:12.347Z"
   },
   {
    "duration": 10,
    "start_time": "2022-10-11T11:59:12.356Z"
   },
   {
    "duration": 74,
    "start_time": "2022-10-11T12:03:31.411Z"
   },
   {
    "duration": 146,
    "start_time": "2022-10-11T12:08:27.045Z"
   },
   {
    "duration": 146,
    "start_time": "2022-10-11T12:08:33.013Z"
   },
   {
    "duration": 150,
    "start_time": "2022-10-11T12:08:42.230Z"
   },
   {
    "duration": 5,
    "start_time": "2022-10-11T12:14:57.810Z"
   },
   {
    "duration": 4,
    "start_time": "2022-10-11T12:14:59.137Z"
   },
   {
    "duration": 4,
    "start_time": "2022-10-11T12:15:00.816Z"
   },
   {
    "duration": 3,
    "start_time": "2022-10-11T12:15:01.745Z"
   },
   {
    "duration": 5,
    "start_time": "2022-10-11T12:15:39.906Z"
   },
   {
    "duration": 4,
    "start_time": "2022-10-11T12:15:40.554Z"
   },
   {
    "duration": 4,
    "start_time": "2022-10-11T12:15:42.417Z"
   },
   {
    "duration": 5,
    "start_time": "2022-10-11T12:16:03.810Z"
   },
   {
    "duration": 4,
    "start_time": "2022-10-11T12:16:04.770Z"
   },
   {
    "duration": 4,
    "start_time": "2022-10-11T12:16:05.251Z"
   },
   {
    "duration": 3,
    "start_time": "2022-10-11T12:16:06.986Z"
   },
   {
    "duration": 5,
    "start_time": "2022-10-11T12:16:08.202Z"
   },
   {
    "duration": 5,
    "start_time": "2022-10-11T12:16:08.769Z"
   },
   {
    "duration": 4,
    "start_time": "2022-10-11T12:16:11.074Z"
   },
   {
    "duration": 19,
    "start_time": "2022-10-11T12:16:12.938Z"
   },
   {
    "duration": 7,
    "start_time": "2022-10-11T12:16:45.276Z"
   },
   {
    "duration": 10,
    "start_time": "2022-10-11T12:16:46.354Z"
   },
   {
    "duration": 1095,
    "start_time": "2022-10-11T12:23:41.997Z"
   },
   {
    "duration": 25,
    "start_time": "2022-10-11T12:23:43.093Z"
   },
   {
    "duration": 11,
    "start_time": "2022-10-11T12:23:43.119Z"
   },
   {
    "duration": 12,
    "start_time": "2022-10-11T12:23:43.132Z"
   },
   {
    "duration": 9,
    "start_time": "2022-10-11T12:23:43.145Z"
   },
   {
    "duration": 42,
    "start_time": "2022-10-11T12:23:43.155Z"
   },
   {
    "duration": 9,
    "start_time": "2022-10-11T12:23:43.199Z"
   },
   {
    "duration": 10,
    "start_time": "2022-10-11T12:23:43.210Z"
   },
   {
    "duration": 9,
    "start_time": "2022-10-11T12:23:43.221Z"
   },
   {
    "duration": 12,
    "start_time": "2022-10-11T12:23:43.232Z"
   },
   {
    "duration": 9,
    "start_time": "2022-10-11T12:23:43.245Z"
   },
   {
    "duration": 10,
    "start_time": "2022-10-11T12:23:43.255Z"
   },
   {
    "duration": 4,
    "start_time": "2022-10-11T12:23:43.266Z"
   },
   {
    "duration": 14,
    "start_time": "2022-10-11T12:23:43.271Z"
   },
   {
    "duration": 17,
    "start_time": "2022-10-11T12:23:43.286Z"
   },
   {
    "duration": 18,
    "start_time": "2022-10-11T12:23:43.305Z"
   },
   {
    "duration": 20,
    "start_time": "2022-10-11T12:23:43.325Z"
   },
   {
    "duration": 9,
    "start_time": "2022-10-11T12:23:43.347Z"
   },
   {
    "duration": 27,
    "start_time": "2022-10-11T12:23:43.358Z"
   },
   {
    "duration": 9,
    "start_time": "2022-10-11T12:23:43.387Z"
   },
   {
    "duration": 6,
    "start_time": "2022-10-11T12:23:43.398Z"
   },
   {
    "duration": 5,
    "start_time": "2022-10-11T12:23:43.405Z"
   },
   {
    "duration": 10,
    "start_time": "2022-10-11T12:23:43.411Z"
   },
   {
    "duration": 8,
    "start_time": "2022-10-11T12:23:43.423Z"
   },
   {
    "duration": 156,
    "start_time": "2022-10-11T12:23:43.432Z"
   },
   {
    "duration": 131,
    "start_time": "2022-10-11T12:23:43.590Z"
   },
   {
    "duration": 12,
    "start_time": "2022-10-11T12:23:43.723Z"
   },
   {
    "duration": 8,
    "start_time": "2022-10-11T12:23:43.737Z"
   },
   {
    "duration": 7,
    "start_time": "2022-10-11T12:23:43.747Z"
   },
   {
    "duration": 254,
    "start_time": "2022-10-11T12:23:43.755Z"
   },
   {
    "duration": 192,
    "start_time": "2022-10-11T12:23:44.011Z"
   },
   {
    "duration": 301,
    "start_time": "2022-10-11T12:23:44.204Z"
   },
   {
    "duration": 3,
    "start_time": "2022-10-11T12:23:44.506Z"
   },
   {
    "duration": 7,
    "start_time": "2022-10-11T12:23:44.511Z"
   },
   {
    "duration": 212,
    "start_time": "2022-10-11T12:23:44.519Z"
   },
   {
    "duration": 310,
    "start_time": "2022-10-11T12:23:44.732Z"
   },
   {
    "duration": 10,
    "start_time": "2022-10-11T12:23:45.044Z"
   },
   {
    "duration": 166,
    "start_time": "2022-10-11T12:23:45.056Z"
   },
   {
    "duration": 157,
    "start_time": "2022-10-11T12:23:45.223Z"
   },
   {
    "duration": 5,
    "start_time": "2022-10-11T12:23:45.382Z"
   },
   {
    "duration": 285,
    "start_time": "2022-10-11T12:23:45.389Z"
   },
   {
    "duration": 158,
    "start_time": "2022-10-11T12:23:45.676Z"
   },
   {
    "duration": 5,
    "start_time": "2022-10-11T12:23:45.835Z"
   },
   {
    "duration": 63,
    "start_time": "2022-10-11T12:23:45.841Z"
   },
   {
    "duration": 75,
    "start_time": "2022-10-11T12:23:45.906Z"
   },
   {
    "duration": 15,
    "start_time": "2022-10-11T12:23:45.982Z"
   },
   {
    "duration": 29,
    "start_time": "2022-10-11T12:23:45.999Z"
   },
   {
    "duration": 12,
    "start_time": "2022-10-11T12:23:46.031Z"
   },
   {
    "duration": 20,
    "start_time": "2022-10-11T12:23:46.045Z"
   },
   {
    "duration": 30,
    "start_time": "2022-10-11T12:23:46.067Z"
   },
   {
    "duration": 8,
    "start_time": "2022-10-11T12:23:46.099Z"
   },
   {
    "duration": 27,
    "start_time": "2022-10-11T12:23:46.109Z"
   },
   {
    "duration": 10,
    "start_time": "2022-10-11T12:23:46.138Z"
   },
   {
    "duration": 14,
    "start_time": "2022-10-11T12:23:46.150Z"
   },
   {
    "duration": 12,
    "start_time": "2022-10-11T12:23:46.165Z"
   },
   {
    "duration": 8,
    "start_time": "2022-10-11T12:23:46.179Z"
   },
   {
    "duration": 13,
    "start_time": "2022-10-11T12:23:46.189Z"
   },
   {
    "duration": 15,
    "start_time": "2022-10-11T12:23:46.204Z"
   },
   {
    "duration": 18,
    "start_time": "2022-10-11T12:23:46.221Z"
   },
   {
    "duration": 25,
    "start_time": "2022-10-11T12:23:46.241Z"
   },
   {
    "duration": 7,
    "start_time": "2022-10-11T12:23:46.267Z"
   },
   {
    "duration": 13,
    "start_time": "2022-10-11T12:23:46.276Z"
   },
   {
    "duration": 1301,
    "start_time": "2022-10-12T06:56:36.119Z"
   },
   {
    "duration": 71,
    "start_time": "2022-10-12T06:56:37.422Z"
   },
   {
    "duration": 12,
    "start_time": "2022-10-12T06:56:37.495Z"
   },
   {
    "duration": 24,
    "start_time": "2022-10-12T06:56:37.508Z"
   },
   {
    "duration": 21,
    "start_time": "2022-10-12T06:56:37.535Z"
   },
   {
    "duration": 77,
    "start_time": "2022-10-12T06:56:37.558Z"
   },
   {
    "duration": 12,
    "start_time": "2022-10-12T06:56:37.638Z"
   },
   {
    "duration": 11,
    "start_time": "2022-10-12T06:56:37.652Z"
   },
   {
    "duration": 7,
    "start_time": "2022-10-12T06:56:37.664Z"
   },
   {
    "duration": 16,
    "start_time": "2022-10-12T06:56:37.672Z"
   },
   {
    "duration": 10,
    "start_time": "2022-10-12T06:56:37.690Z"
   },
   {
    "duration": 10,
    "start_time": "2022-10-12T06:56:37.701Z"
   },
   {
    "duration": 4,
    "start_time": "2022-10-12T06:56:37.712Z"
   },
   {
    "duration": 16,
    "start_time": "2022-10-12T06:56:37.719Z"
   },
   {
    "duration": 19,
    "start_time": "2022-10-12T06:56:37.736Z"
   },
   {
    "duration": 5,
    "start_time": "2022-10-12T06:56:37.757Z"
   },
   {
    "duration": 66,
    "start_time": "2022-10-12T06:56:37.763Z"
   },
   {
    "duration": 11,
    "start_time": "2022-10-12T06:56:37.831Z"
   },
   {
    "duration": 13,
    "start_time": "2022-10-12T06:56:37.844Z"
   },
   {
    "duration": 6,
    "start_time": "2022-10-12T06:56:37.859Z"
   },
   {
    "duration": 7,
    "start_time": "2022-10-12T06:56:37.866Z"
   },
   {
    "duration": 8,
    "start_time": "2022-10-12T06:56:37.874Z"
   },
   {
    "duration": 7,
    "start_time": "2022-10-12T06:56:37.883Z"
   },
   {
    "duration": 10,
    "start_time": "2022-10-12T06:56:37.891Z"
   },
   {
    "duration": 173,
    "start_time": "2022-10-12T06:56:37.902Z"
   },
   {
    "duration": 166,
    "start_time": "2022-10-12T06:56:38.077Z"
   },
   {
    "duration": 18,
    "start_time": "2022-10-12T06:56:38.245Z"
   },
   {
    "duration": 12,
    "start_time": "2022-10-12T06:56:38.265Z"
   },
   {
    "duration": 26,
    "start_time": "2022-10-12T06:56:38.279Z"
   },
   {
    "duration": 282,
    "start_time": "2022-10-12T06:56:38.307Z"
   },
   {
    "duration": 223,
    "start_time": "2022-10-12T06:56:38.590Z"
   },
   {
    "duration": 359,
    "start_time": "2022-10-12T06:56:38.815Z"
   },
   {
    "duration": 4,
    "start_time": "2022-10-12T06:56:39.176Z"
   },
   {
    "duration": 15,
    "start_time": "2022-10-12T06:56:39.182Z"
   },
   {
    "duration": 226,
    "start_time": "2022-10-12T06:56:39.199Z"
   },
   {
    "duration": 281,
    "start_time": "2022-10-12T06:56:39.427Z"
   },
   {
    "duration": 12,
    "start_time": "2022-10-12T06:56:39.710Z"
   },
   {
    "duration": 180,
    "start_time": "2022-10-12T06:56:39.723Z"
   },
   {
    "duration": 187,
    "start_time": "2022-10-12T06:56:39.905Z"
   },
   {
    "duration": 4,
    "start_time": "2022-10-12T06:56:40.096Z"
   },
   {
    "duration": 312,
    "start_time": "2022-10-12T06:56:40.104Z"
   },
   {
    "duration": 185,
    "start_time": "2022-10-12T06:56:40.418Z"
   },
   {
    "duration": 5,
    "start_time": "2022-10-12T06:56:40.604Z"
   },
   {
    "duration": 64,
    "start_time": "2022-10-12T06:56:40.611Z"
   },
   {
    "duration": 95,
    "start_time": "2022-10-12T06:56:40.677Z"
   },
   {
    "duration": 25,
    "start_time": "2022-10-12T06:56:40.774Z"
   },
   {
    "duration": 6,
    "start_time": "2022-10-12T06:56:40.801Z"
   },
   {
    "duration": 10,
    "start_time": "2022-10-12T06:56:40.809Z"
   },
   {
    "duration": 7,
    "start_time": "2022-10-12T06:56:40.820Z"
   },
   {
    "duration": 25,
    "start_time": "2022-10-12T06:56:40.829Z"
   },
   {
    "duration": 6,
    "start_time": "2022-10-12T06:56:40.857Z"
   },
   {
    "duration": 10,
    "start_time": "2022-10-12T06:56:40.898Z"
   },
   {
    "duration": 6,
    "start_time": "2022-10-12T06:56:40.910Z"
   },
   {
    "duration": 8,
    "start_time": "2022-10-12T06:56:40.918Z"
   },
   {
    "duration": 9,
    "start_time": "2022-10-12T06:56:40.927Z"
   },
   {
    "duration": 9,
    "start_time": "2022-10-12T06:56:40.938Z"
   },
   {
    "duration": 25,
    "start_time": "2022-10-12T06:56:40.948Z"
   },
   {
    "duration": 9,
    "start_time": "2022-10-12T06:56:40.975Z"
   },
   {
    "duration": 15,
    "start_time": "2022-10-12T06:56:40.986Z"
   },
   {
    "duration": 40,
    "start_time": "2022-10-12T06:56:41.003Z"
   },
   {
    "duration": 8,
    "start_time": "2022-10-12T06:56:41.045Z"
   },
   {
    "duration": 13,
    "start_time": "2022-10-12T06:56:41.055Z"
   }
  ],
  "kernelspec": {
   "display_name": "Python 3 (ipykernel)",
   "language": "python",
   "name": "python3"
  },
  "language_info": {
   "codemirror_mode": {
    "name": "ipython",
    "version": 3
   },
   "file_extension": ".py",
   "mimetype": "text/x-python",
   "name": "python",
   "nbconvert_exporter": "python",
   "pygments_lexer": "ipython3",
   "version": "3.9.13"
  },
  "toc": {
   "base_numbering": 1,
   "nav_menu": {},
   "number_sections": true,
   "sideBar": true,
   "skip_h1_title": true,
   "title_cell": "Table of Contents",
   "title_sidebar": "Contents",
   "toc_cell": false,
   "toc_position": {
    "height": "calc(100% - 180px)",
    "left": "10px",
    "top": "150px",
    "width": "165px"
   },
   "toc_section_display": true,
   "toc_window_display": true
  }
 },
 "nbformat": 4,
 "nbformat_minor": 2
}
